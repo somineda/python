{
  "cells": [
    {
      "cell_type": "markdown",
      "metadata": {
        "id": "view-in-github",
        "colab_type": "text"
      },
      "source": [
        "<a href=\"https://colab.research.google.com/github/somineda/python/blob/main/task_6.ipynb\" target=\"_parent\"><img src=\"https://colab.research.google.com/assets/colab-badge.svg\" alt=\"Open In Colab\"/></a>"
      ]
    },
    {
      "cell_type": "markdown",
      "metadata": {
        "id": "56sEBZw7PX8W"
      },
      "source": [
        "[문제]\n",
        "\n",
        "'Vehicle'이라는 기본 클래스를 선언하세요.\n",
        "\n",
        "이 클래스는 make (제조사)와 model (모델명) 두 개의 속성을 갖고, 생성자(__init__)를 통해 이 두 속성을 초기화합니다. 'display_info'라는 메소드를 추가하여, \"이 차량은 [make]에서 제조한 [model]입니다.\"라는 메시지를 반환하도록 하세요.\n",
        "\n",
        "'Truck'과 'Car' 두 개의 하위 클래스를 생성하고, 각 클래스는 'Vehicle' 클래스로부터 상속받습니다.\n",
        "\n",
        "'Truck' 클래스에는 추가로 'payload' (적재량) 속성을, 'Car' 클래스에는 'seats' (좌석 수) 속성을 추가합니다. 각각의 하위 클래스에서 'display_info' 메소드는 기본 클래스의 메소드를 그대로 사용합니다.\n",
        "\n",
        "'Truck'과 'Car' 객체 각각을 생성하고, 'display_info' 메소드를 호출하여 정보를 출력하세요.\n",
        "\n",
        "또한, 각 객체의 추가 속성(적재량, 좌석 수)에 대한 정보도 출력하세요.\n",
        "\n",
        "이 문제는 클래스의 상속 개념을 이해하고, 기본 클래스의 속성과 메소드를 하위 클래스가 어떻게 활용할 수 있는지 보여줍니다.\n",
        "\n",
        "오버라이드는 필요하지 않으며, 각 하위 클래스의 고유한 속성을 추가하는 방법에 초점을 맞춥니다."
      ]
    },
    {
      "cell_type": "code",
      "source": [
        "class Vehicle:\n",
        "    def __init__(self, make, model):\n",
        "        self.make = make\n",
        "        self.model = model\n",
        "\n",
        "    def display_info(self):\n",
        "        return f\"이 차량은 {self.make}에서 제조한 {self.model}입니다.\"\n",
        "\n",
        "class Truck(Vehicle):\n",
        "    def __init__(self, make, model, payload):\n",
        "        super().__init__(make, model)\n",
        "        self.payload = payload\n",
        "\n",
        "class Car(Vehicle):\n",
        "    def __init__(self, make, model, seats):\n",
        "        super().__init__(make, model)\n",
        "        self.seats = seats\n",
        "\n",
        "truck = Truck(\"현대\", \"트럭\", 5000)\n",
        "car = Car(\"테슬라\", \"모델\", 5)\n",
        "\n",
        "print(truck.display_info())\n",
        "print(f\"적재량: {truck.payload}kg\\n\")\n",
        "\n",
        "print(car.display_info())\n",
        "print(f\"좌석 수: {car.seats}개\")\n"
      ],
      "metadata": {
        "colab": {
          "base_uri": "https://localhost:8080/"
        },
        "id": "bXdrD6y9PgCh",
        "outputId": "13da4b33-b2e9-4268-951b-a29355914af3"
      },
      "execution_count": 1,
      "outputs": [
        {
          "output_type": "stream",
          "name": "stdout",
          "text": [
            "이 차량은 현대에서 제조한 트럭입니다.\n",
            "적재량: 5000kg\n",
            "\n",
            "이 차량은 테슬라에서 제조한 모델입니다.\n",
            "좌석 수: 5개\n"
          ]
        }
      ]
    }
  ],
  "metadata": {
    "language_info": {
      "name": "python"
    },
    "colab": {
      "provenance": [],
      "include_colab_link": true
    },
    "kernelspec": {
      "name": "python3",
      "display_name": "Python 3"
    }
  },
  "nbformat": 4,
  "nbformat_minor": 0
}