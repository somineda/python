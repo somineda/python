{
 "cells": [
  {
   "cell_type": "markdown",
   "metadata": {},
   "source": [
    "여러분이 자주 사용하는 수학적 연산<br>\n",
    "(예: 삼각형 넓이, 원의 넓이, 직육면체의 넓이)을 수행하는 함수들을 포함하는 mymath.py라는 이름의 모듈을 만드세요. \n",
    "\n",
    "이 모듈을 사용하여 작성된 함수들을 실제로 임포트하고 사용하는 간단한 프로그램을 작성하세요."
   ]
  },
  {
   "cell_type": "markdown",
   "metadata": {},
   "source": []
  },
  {
   "cell_type": "code",
   "execution_count": 1,
   "metadata": {},
   "outputs": [
    {
     "name": "stdout",
     "output_type": "stream",
     "text": [
      "삼각형의 넓이: 25.0\n",
      "원의 넓이: 153.93804002589985\n",
      "직육면체의 부피: 60\n"
     ]
    }
   ],
   "source": [
    "import mymath  \n",
    "\n",
    "\n",
    "base = 10\n",
    "height = 5\n",
    "print(f\"삼각형의 넓이: {mymath.triangle_area(base, height)}\")\n",
    "\n",
    "\n",
    "radius = 7\n",
    "print(f\"원의 넓이: {mymath.circle_area(radius)}\")\n",
    "\n",
    "\n",
    "length, width, height = 4, 3, 5\n",
    "print(f\"직육면체의 부피: {mymath.rectangular_prism_volume(length, width, height)}\")\n"
   ]
  }
 ],
 "metadata": {
  "kernelspec": {
   "display_name": "Python 3",
   "language": "python",
   "name": "python3"
  },
  "language_info": {
   "codemirror_mode": {
    "name": "ipython",
    "version": 3
   },
   "file_extension": ".py",
   "mimetype": "text/x-python",
   "name": "python",
   "nbconvert_exporter": "python",
   "pygments_lexer": "ipython3",
   "version": "3.13.2"
  }
 },
 "nbformat": 4,
 "nbformat_minor": 2
}
