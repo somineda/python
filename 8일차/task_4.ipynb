{
  "cells": [
    {
      "cell_type": "markdown",
      "metadata": {
        "id": "view-in-github",
        "colab_type": "text"
      },
      "source": [
        "<a href=\"https://colab.research.google.com/github/somineda/python/blob/main/task_4.ipynb\" target=\"_parent\"><img src=\"https://colab.research.google.com/assets/colab-badge.svg\" alt=\"Open In Colab\"/></a>"
      ]
    },
    {
      "cell_type": "markdown",
      "metadata": {
        "id": "EJvR_iDUNlkP"
      },
      "source": [
        "[문제]\n",
        "\n",
        "'Employee' 클래스를 선언하세요.\n",
        "\n",
        "이 클래스는 월급인상률을 의미하는 클래스 변수로 'raise_amount'를 갖고 있으며, 기본값은 1.04입니다. 다음 급여는 기본 급여에 월급인상률을 곱한 값으로 결정합니다.\n",
        "\n",
        "또한, 각 직원의 이름(name)과 급여(salary)를 속성으로 가지며, 'apply_raise' 메소드를 통해 급여에 'raise_amount'를 적용할 수 있어야 합니다.\n",
        "\n",
        "'Employee' 클래스의 객체 두 개를 생성하고, 한 객체에만 'raise_amount'를 변경한 후, 두 객체의 급여를 증가시켜보세요.<br>\n",
        "그리고 각 객체의 새로운 급여를 출력하세요."
      ]
    },
    {
      "cell_type": "code",
      "source": [
        "class Employee:\n",
        "    raise_amount = 1.04\n",
        "    def __init__(self, name, salary):\n",
        "        self.name = name\n",
        "        self.salary = salary\n",
        "\n",
        "    def apply_raise(self):\n",
        "        self.salary = int(self.salary * self.raise_amount)\n",
        "\n",
        "emp1 = Employee(\"윤소민\", 7000000)\n",
        "emp2 = Employee(\"변의주\", 5000000)\n",
        "emp2.raise_amount = 1.10\n",
        "\n",
        "emp1.apply_raise()\n",
        "emp2.apply_raise()\n",
        "\n",
        "print(f\"{emp1.name}의 새로운 급여: {emp1.salary}원\")\n",
        "print(f\"{emp2.name}의 새로운 급여: {emp2.salary}원\")\n"
      ],
      "metadata": {
        "colab": {
          "base_uri": "https://localhost:8080/"
        },
        "id": "QWTSN0gtN_zB",
        "outputId": "15bd1565-d831-4b6d-a6d2-8cb7461083ea"
      },
      "execution_count": 1,
      "outputs": [
        {
          "output_type": "stream",
          "name": "stdout",
          "text": [
            "윤소민의 새로운 급여: 7280000원\n",
            "변의주의 새로운 급여: 5500000원\n"
          ]
        }
      ]
    },
    {
      "cell_type": "markdown",
      "metadata": {
        "id": "WlM-wDbHNlkR"
      },
      "source": []
    },
    {
      "cell_type": "markdown",
      "metadata": {
        "id": "suWYPRpXNlkS"
      },
      "source": []
    }
  ],
  "metadata": {
    "language_info": {
      "name": "python"
    },
    "colab": {
      "provenance": [],
      "include_colab_link": true
    },
    "kernelspec": {
      "name": "python3",
      "display_name": "Python 3"
    }
  },
  "nbformat": 4,
  "nbformat_minor": 0
}
