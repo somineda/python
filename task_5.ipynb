{
 "cells": [
  {
   "cell_type": "markdown",
   "metadata": {},
   "source": [
    "datetime 모듈을 사용하여 현재 날짜와 시간을 출력하는 프로그램을 작성하세요. \n",
    "\n",
    "또한, 사용자로부터 태어난 년도를 입력받아 현재 나이를 계산하여 출력하세요."
   ]
  },
  {
   "cell_type": "code",
   "execution_count": 3,
   "metadata": {},
   "outputs": [
    {
     "name": "stdout",
     "output_type": "stream",
     "text": [
      "현재 날짜와 시간: 2025-03-14\n",
      "현재 나이: 25세\n"
     ]
    }
   ],
   "source": [
    "from datetime import datetime \n",
    "\n",
    "def calculate_age():\n",
    "    try:\n",
    "        now = datetime.now()\n",
    "        print(f\"현재 날짜와 시간: {now.strftime('%Y-%m-%d')}\")\n",
    "\n",
    "        birth_year = int(input(\"태어난 년도를 입력하세요: \"))\n",
    "\n",
    "        current_year = now.year\n",
    "        age = current_year - birth_year  \n",
    "\n",
    "        print(f\"현재 나이: {age}세\")\n",
    "\n",
    "    except ValueError:\n",
    "        print(\"숫자로 된 출생 연도를 입력해주세요.\")\n",
    "\n",
    "# 함수 실행\n",
    "calculate_age()\n"
   ]
  }
 ],
 "metadata": {
  "kernelspec": {
   "display_name": "Python 3",
   "language": "python",
   "name": "python3"
  },
  "language_info": {
   "codemirror_mode": {
    "name": "ipython",
    "version": 3
   },
   "file_extension": ".py",
   "mimetype": "text/x-python",
   "name": "python",
   "nbconvert_exporter": "python",
   "pygments_lexer": "ipython3",
   "version": "3.13.2"
  }
 },
 "nbformat": 4,
 "nbformat_minor": 2
}
