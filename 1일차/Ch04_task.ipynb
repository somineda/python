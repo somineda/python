{
  "cells": [
    {
      "cell_type": "code",
      "execution_count": 23,
      "metadata": {
        "colab": {
          "base_uri": "https://localhost:8080/"
        },
        "id": "RRY3SjFwYVXW",
        "outputId": "23ba7b79-ea6d-481e-9d76-52acd967272d"
      },
      "outputs": [
        {
          "name": "stdout",
          "output_type": "stream",
          "text": [
            "Reading package lists... Done\n",
            "Building dependency tree... Done\n",
            "Reading state information... Done\n",
            "git is already the newest version (1:2.34.1-1ubuntu1.12).\n",
            "0 upgraded, 0 newly installed, 0 to remove and 29 not upgraded.\n"
          ]
        }
      ],
      "source": [
        "!apt install git\n",
        "!git config --global user.name \"somineda\"\n",
        "!git config --global user.email \"fuurele@gmail.com\"\n"
      ]
    },
    {
      "cell_type": "markdown",
      "metadata": {
        "id": "WXEwMsfUct7U"
      },
      "source": [
        "안녕하세요.<br><br>\n",
        "수강생 여러분~! Chapter04 수업은 잘 들으셨나요?\n",
        "\n",
        "Chapter04의 수업 내용을 바탕으로 아래 문제를 풀어주시면 됩니다.\n",
        "\n",
        "<br>\n",
        "\n",
        "[**답변 입력 방법**]\n",
        "\n",
        "문제 아래에 있는 코드 입력창에 정답코드를 작성하신 후  __▷ 버튼을 클릭해 코드를 실행__ 해보세요<br>\n",
        "<br>"
      ]
    },
    {
      "cell_type": "markdown",
      "metadata": {
        "id": "qoyC9wF-3hvs"
      },
      "source": [
        "-----"
      ]
    },
    {
      "cell_type": "markdown",
      "metadata": {
        "id": "y7ucPCkOPrYs"
      },
      "source": [
        "<br>\n",
        "\n",
        "__[문제0]__\n",
        "\n",
        "한 변의 길이가 5인 정사각형이 있습니다.\n",
        "\n",
        "정사각형의 넓이를 구하세요.\n",
        "<br>"
      ]
    },
    {
      "cell_type": "code",
      "execution_count": 1,
      "metadata": {
        "colab": {
          "base_uri": "https://localhost:8080/"
        },
        "id": "fkAhmt_aPrYt",
        "outputId": "60b4ff5e-1546-446d-afc3-2714b6b80534"
      },
      "outputs": [
        {
          "name": "stdout",
          "output_type": "stream",
          "text": [
            "25\n"
          ]
        }
      ],
      "source": [
        "print(5*5)"
      ]
    },
    {
      "cell_type": "markdown",
      "metadata": {
        "id": "siNnTMuQPrYt"
      },
      "source": [
        "<br>\n",
        "\n",
        "__[문제1]__\n",
        "\n",
        "오즈 코딩 스쿨 백엔드 8기 과정에 참여한 수강생 중 5명의 수강생이 자율적으로 스터디 그룹을 결성했습니다.\n",
        "\n",
        "스터디 그룹 내에는 한 주간 배운 내용으로 매주 쪽지 시험을 보는 룰이 있습니다.\n",
        "\n",
        "이 쪽지 시험의 평균이 70점이 넘으면 주말 스터디는 없습니다.\n",
        "\n",
        "이들의 평균 점수를 대신 계산해주세요.\n",
        "\n",
        "<br>\n",
        "A: 65, B: 75, C: 50, D: 80, E: 60\n",
        "\n",
        "<br>"
      ]
    },
    {
      "cell_type": "code",
      "execution_count": 2,
      "metadata": {
        "colab": {
          "base_uri": "https://localhost:8080/"
        },
        "id": "dIhm7nSuPrYu",
        "outputId": "b9db394c-f921-438a-ed57-c360367cfa58"
      },
      "outputs": [
        {
          "name": "stdout",
          "output_type": "stream",
          "text": [
            "66.0\n"
          ]
        }
      ],
      "source": [
        "A = 65\n",
        "B = 75\n",
        "C = 50\n",
        "D = 80\n",
        "E = 60\n",
        "\n",
        "avg_score = (A + B + C + D + E) / 5\n",
        "print(avg_score)\n"
      ]
    },
    {
      "cell_type": "markdown",
      "metadata": {
        "id": "rAD_O3Gmc_43"
      },
      "source": [
        "<br>__[문제2]__\n",
        "\n",
        " **키 : 180cm , 몸무게 92kg**"
      ]
    },
    {
      "cell_type": "markdown",
      "metadata": {
        "id": "WyZJAEcvPrYz"
      },
      "source": [
        "__Tips__\n",
        "\n",
        "\n",
        " **신체질량지수(BMI)를 통해 비만도를 대략적으로 파악해 볼 수 있습니다.<br>\n",
        " 첨부된 그림에 있는 계산식을 파이썬 코드로 작성해보세요**\n",
        "\n",
        "\n",
        "- 단위를 고려하세요 !"
      ]
    },
    {
      "cell_type": "code",
      "execution_count": 10,
      "metadata": {
        "colab": {
          "base_uri": "https://localhost:8080/"
        },
        "id": "74wtVQFFc_h1",
        "outputId": "503aa719-cde6-457d-9814-854078bb8497"
      },
      "outputs": [
        {
          "name": "stdout",
          "output_type": "stream",
          "text": [
            "28.39506172839506\n"
          ]
        }
      ],
      "source": [
        "kg = 92\n",
        "height = 180 / 100\n",
        "bmi = kg / (height ** 2)\n",
        "print(bmi)\n"
      ]
    },
    {
      "cell_type": "markdown",
      "metadata": {
        "id": "3uK_auXYdgk2"
      },
      "source": [
        "<br>__[문제3]__\n",
        "\n",
        "밑변과 높이가 주어졌을때 피타고라스 정의를 이용해 빗면을 구할 수 있습니다.\n",
        "\n",
        "아래 주어진 밑변과 높이를 이용해 빗면을 구해주세요\n",
        "\n",
        "\n",
        "\n",
        "__Tips__\n",
        "\n",
        "\n",
        "- 피타고라스 정의\n",
        "\n",
        "높이(a) : 13cm, 밑변(b) : 9cm,  빗면(c) : ?"
      ]
    },
    {
      "cell_type": "code",
      "execution_count": 11,
      "metadata": {
        "colab": {
          "base_uri": "https://localhost:8080/"
        },
        "id": "9kvBxa6PdhgA",
        "outputId": "c9b413ee-6969-4593-e2f9-5a617327d7b2"
      },
      "outputs": [
        {
          "name": "stdout",
          "output_type": "stream",
          "text": [
            "15.811388300841896\n"
          ]
        }
      ],
      "source": [
        "a = 13\n",
        "b = 9\n",
        "\n",
        "c = (a ** 2 + b ** 2) ** 0.5\n",
        "\n",
        "print(c)"
      ]
    },
    {
      "cell_type": "markdown",
      "metadata": {
        "id": "2Jte2VLKdiPm"
      },
      "source": [
        "__[문제4]__\n",
        "\n",
        "쉬지도 않고 일하는 직장인 오즈씨는 3년만에 첫 성과급으로 2500만원을 받았습니다.\n",
        "\n",
        "연이율 6.15%의 고정금리 상품에 예금하려고 합니다.\n",
        "\n",
        "3년 동안 넣어두면 원금을 제외한 이자가 얼마나 되는지 계산해 주세요.\n",
        "\n",
        "\n",
        "<br>\n",
        "\n",
        "__Tips__\n",
        "\n",
        "\n",
        "- 이자 지급 방식은 매년 원금 기준으로 지급되는 단리 방식입니다. 단리 방식 계산식을 검색해보세요!)\n",
        "\n",
        "원금 25000000원, 연이율 6.15%, 기간 : 3년"
      ]
    },
    {
      "cell_type": "code",
      "execution_count": 12,
      "metadata": {
        "colab": {
          "base_uri": "https://localhost:8080/"
        },
        "id": "JDoLKorRPrY0",
        "outputId": "192a6153-3af8-4570-e674-70f1a997b6bc"
      },
      "outputs": [
        {
          "name": "stdout",
          "output_type": "stream",
          "text": [
            "이자: 4612500.000000001\n"
          ]
        }
      ],
      "source": [
        "salary = 25000000\n",
        "rate = 6.15 / 100\n",
        "years = 3\n",
        "\n",
        "\n",
        "interest = salary * rate * years\n",
        "\n",
        "print(\"이자:\" , interest)\n",
        "\n"
      ]
    },
    {
      "cell_type": "markdown",
      "metadata": {
        "id": "tT8TWw4XPrY0"
      },
      "source": [
        "## 도전! 신비의 섬 탐험\n",
        "\n",
        "### [배경 이야기]\n",
        "\n",
        "탐험가인 당신은 신비의 섬에 도착했습니다.\n",
        "\n",
        "\n",
        "이 섬에는 숨겨진 보물이 있으며, 이를 찾기 위해 여러 도전 과제를 해결해야 합니다.\n",
        "\n",
        "\n",
        "섬에는 알 수 없는 외계인이 당신을 쫓아오고 있어 모든 도전을 신속하게 해결하고 섬을 탈출해야 합니다.\n",
        "\n",
        "\n",
        "<br>\n",
        "\n",
        "### [문제 풀이 팁]\n",
        "\n",
        "신비의 섬을 나가기 위해 필요한 비밀번호를 변수에 담아 놓는다면 번거로운 계산 과정이 줄어듭니다.\n",
        "\n",
        "\n",
        "- 아직 변수에 대해 배운 적이 없다면?\n",
        "\n",
        "\n",
        "__Chapter02 강의 예습 혹은 검색을 통해 간단한 개념을 파악할 수 있습니다!__\n",
        "\n",
        "\n",
        "<br>\n",
        "\n",
        "##### __<신비의 섬 탐험> 문제는 성장을 위해 난이도가 살짝 높게 작성되었기 때문에 어려울 수 있지만 도전해보시길 바랍니다 :)__\n",
        "\n",
        "\n",
        "\n",
        "<br>"
      ]
    },
    {
      "cell_type": "markdown",
      "metadata": {
        "id": "MeMLWtAQPrY0"
      },
      "source": [
        "__[문제 1: 입구의 수수께끼]__\n",
        "\n",
        "<br>\n",
        "\n",
        "섬의 입구에 도착한 당신은 좋지 않은 느낌을 받습니다. 무언가 비릿한 냄새가 여기저기에서 납니다.\n",
        "\n",
        "아마도 나보다 앞서 도착한 도전자들의 시체가 썩는 냄새인 것 같습니다.\n",
        "\n",
        "지금...누군가 당신을 지켜보고 있습니다. 한시라도 빠르게 이 섬을 탈출해야 합니다.\n",
        "\n",
        "우선 이 거대한 돌문을 열고 섬의 더 깊숙한 곳으로 들어가야 합니다. 돌문을 열려면 두 개의 열쇠 숫자를 더해야 합니다.\n",
        "\n",
        "열쇠 숫자는 14와 29입니다.\n",
        "\n",
        "돌문을 여는 숫자를 구해주세요."
      ]
    },
    {
      "cell_type": "code",
      "execution_count": 13,
      "metadata": {
        "colab": {
          "base_uri": "https://localhost:8080/"
        },
        "id": "G6jk2ZW7PrY1",
        "outputId": "e186248c-45fd-4400-d792-3bc89ad82854"
      },
      "outputs": [
        {
          "name": "stdout",
          "output_type": "stream",
          "text": [
            "돌문을 여는 숫자는 43 입니다.\n"
          ]
        }
      ],
      "source": [
        "key1 = 14\n",
        "key2 = 29\n",
        "\n",
        "rockdoor = key1 + key2\n",
        "\n",
        "print(\"돌문을 여는 숫자는\", rockdoor, \"입니다.\")"
      ]
    },
    {
      "cell_type": "markdown",
      "metadata": {
        "id": "1AtMiZRgPrY1"
      },
      "source": [
        "<br>\n",
        "\n",
        "__[문제 2: 첫 번째 강의 다리]__\n",
        "\n",
        "<br>\n",
        "\n",
        "\n",
        "\n",
        "돌문을 지나자 거친 강물이 흐르는 강이 나타났습니다.\n",
        "\n",
        "아주 낡은 나무 다리가 힘겹게 메달려 있습니다.\n",
        "\n",
        "당장이라도 무너질 것 같지만 이 다리 말고는 반대편으로 갈 수 있는 길이 보이지 않습니다.\n",
        "\n",
        "무언가 불길한 기운이 계속 가까워지는 것만 같아 당신 빠르게 다리를 건너야 합니다.\n",
        "\n",
        "다리는 50kg 이상 버티지 못하기 때문에 68kg인 당신은 무게를 줄여야 합니다.\n",
        "\n",
        "방금 전 돌문을 통과하면서 얻은 마법 룬을 이용해 무게를 줄일 수 있습니다.\n",
        "\n",
        "다리를 건너기 위해 줄여야 할 최소 무게를 구해주세요. (이상, 이하, 초과, 미만은 신경쓰지 않습니다!)\n",
        "\n",
        "\n",
        "<br>"
      ]
    },
    {
      "cell_type": "code",
      "execution_count": 14,
      "metadata": {
        "colab": {
          "base_uri": "https://localhost:8080/"
        },
        "id": "LxobKXkGPrY1",
        "outputId": "292cf061-8d39-4e21-a8d6-c515e2462fbf"
      },
      "outputs": [
        {
          "name": "stdout",
          "output_type": "stream",
          "text": [
            "18\n"
          ]
        }
      ],
      "source": [
        "current_weight = 68\n",
        "limit = 50\n",
        "weight = current_weight - limit\n",
        "\n",
        "\n",
        "print(weight)\n"
      ]
    },
    {
      "cell_type": "markdown",
      "metadata": {
        "id": "xFlFdkMzPrY1"
      },
      "source": [
        "\n",
        "\n",
        "<br>\n",
        "\n",
        "__[문제 3: 숲 속의 고목나무]__\n",
        "\n",
        "<br>\n",
        "\n",
        "\n",
        "\n",
        "첫 번째 강을 건너자 으스스한 숲 속에 들어섰습니다.\n",
        "\n",
        "귀를 찢는 울음소리가 숲 속에 울려 퍼집니다. 당신은 바로 오래된 고목나무 숲으로 몸을 숨깁니다.\n",
        "\n",
        "숲 깊이 들어가자 고목 나무에 걸린 현판이 보입니다.\n",
        "\n",
        "\"나무의 나이를 구하고 연못으로 가라\"\n",
        "\n",
        "나무의 나이를 구하기 위해서는 4년마다 한 번의 나이테가 생깁니다.\n",
        "\n",
        "돌문을 열때 사용한 숫자를 나이테 개수로 사용하여 나무의 나이를 구하세요.\n",
        "\n"
      ]
    },
    {
      "cell_type": "markdown",
      "metadata": {
        "id": "TGSp8H36PrY1"
      },
      "source": [
        "__Tips__\n",
        "- 문제 1의 결과값을 참고하세요 !"
      ]
    },
    {
      "cell_type": "code",
      "execution_count": 15,
      "metadata": {
        "colab": {
          "base_uri": "https://localhost:8080/"
        },
        "id": "q9-KYWCwPrY1",
        "outputId": "b034d4ad-e07b-4e97-ffa1-09255be582fd"
      },
      "outputs": [
        {
          "name": "stdout",
          "output_type": "stream",
          "text": [
            "172\n"
          ]
        }
      ],
      "source": [
        "tree_age = rockdoor * 4\n",
        "print(tree_age)"
      ]
    },
    {
      "cell_type": "markdown",
      "metadata": {
        "id": "3Trx1NSSPrY1"
      },
      "source": [
        "<br>\n",
        "\n",
        "__[문제 4: 숲 속의 마법 연못]__\n",
        "\n",
        "<br>\n",
        "\n",
        "\n",
        "\n",
        "고목나무를 지나자 신비로운 마법 연못이 나타났습니다.\n",
        "\n",
        "연못 속에는 불가사의한 에너지가 흐르고 있습니다.\n",
        "\n",
        "이 에너지를 이용하면 보물을 찾는 데 필요한 단서를 얻을 수 있습니다.\n",
        "\n",
        "연못의 깊이를 측정하려면 나무의 나이를 이용해야 합니다.\n",
        "\n",
        "나무의 나이가 172살이고, 연못의 깊이는 나무 나이의 1/4입니다.\n",
        "\n",
        "연못의 깊이를 구하세요.\n",
        "\n",
        "<br>\n",
        "\n"
      ]
    },
    {
      "cell_type": "code",
      "execution_count": 16,
      "metadata": {
        "colab": {
          "base_uri": "https://localhost:8080/"
        },
        "id": "Ik8nBa04PrY1",
        "outputId": "5ffefc85-2389-4add-b5d8-b39d4b732dc4"
      },
      "outputs": [
        {
          "name": "stdout",
          "output_type": "stream",
          "text": [
            "43.0\n"
          ]
        }
      ],
      "source": [
        "pond = tree_age  / 4\n",
        "\n",
        "print(pond)"
      ]
    },
    {
      "cell_type": "markdown",
      "metadata": {
        "id": "tgu2lrplPrY1"
      },
      "source": [
        "<br>\n",
        "\n",
        "__[문제 5: 사원의 입구]__\n",
        "\n",
        "<br>\n",
        "\n",
        "\n",
        "\n",
        "연못을 지나니 고대 사원이 나타났습니다. 사원의 입구에는 비밀번호를 입력해야 합니다.\n",
        "\n",
        "비밀번호는 3자리 수로, 첫 번째 자리는 5, 두 번째 자리는 돌문을 여는 숫자의 십의 자리 수, 세 번째 자리는 돌문을 여는 숫자의 일의 자리 수의 3분의 1입니다.\n",
        "\n",
        "비밀번호를 구하세요.\n",
        "\n",
        "<br>"
      ]
    },
    {
      "cell_type": "code",
      "execution_count": 17,
      "metadata": {
        "colab": {
          "base_uri": "https://localhost:8080/"
        },
        "id": "wDeWBPgnPrY1",
        "outputId": "ed7ad2da-504c-45ef-d7cd-969051af816f"
      },
      "outputs": [
        {
          "name": "stdout",
          "output_type": "stream",
          "text": [
            "541\n"
          ]
        }
      ],
      "source": [
        "num1 = 5\n",
        "num2 = rockdoor // 10\n",
        "num3 = rockdoor % 10 //3\n",
        "\n",
        "pw = num1 * 100 + num2 * 10 + num3\n",
        "\n",
        "print(pw)"
      ]
    },
    {
      "cell_type": "markdown",
      "metadata": {
        "id": "Epc9Cbv8PrY1"
      },
      "source": [
        "<br>\n",
        "\n",
        "__[문제 6: 비밀의 동굴]__\n",
        "\n",
        "<br>\n",
        "\n",
        "사원 내부에 비밀의 동굴로 이어지는 통로가 있습니다.\n",
        "\n",
        "무언가 쿵 하고 넘어지는 소리가 들렸습니다. 신경을 곤두세우는 까마귀 소리가 여기저기서 울려 퍼집니다.\n",
        "\n",
        "주변을 멤돌던 존재가 사원에 진입한것 같습니다.\n",
        "\n",
        "어서 동굴을 벗어나야할 것 같습니다.\n",
        "\n",
        "동굴을 열려면 암호를 풀어야 합니다. 암호는 돌문을 열때 사용한 숫자의 제곱근과 같습니다.\n",
        "\n",
        "암호를 구하세요.\n",
        "\n",
        "<br>"
      ]
    },
    {
      "cell_type": "code",
      "execution_count": 18,
      "metadata": {
        "colab": {
          "base_uri": "https://localhost:8080/"
        },
        "id": "uIi-oS0kPrY1",
        "outputId": "fb0e99e1-3231-4a40-b504-379128fb8ccb"
      },
      "outputs": [
        {
          "name": "stdout",
          "output_type": "stream",
          "text": [
            "6.557438524302\n"
          ]
        }
      ],
      "source": [
        "dong_pw = rockdoor ** 0.5\n",
        "print(dong_pw)"
      ]
    },
    {
      "cell_type": "markdown",
      "metadata": {
        "id": "Hgh6gWdmPrY1"
      },
      "source": [
        "<br>\n",
        "\n",
        "__[문제 7: 해변의 파도]__\n",
        "\n",
        "<br>\n",
        "\n",
        "\n",
        "비밀의 동굴을 지나 해변에 도착했습니다.\n",
        "\n",
        "동굴에서 빠져나오진 못한 존재는 엄청난 촉수를 가진 거대 외계인으로 보입니다. 외계인은 당신을 보며 군침을 흘리고 있습니다. 빠르게 이곳을 탈출해 섬의 반대편으로 도망가야 합니다.\n",
        "\n",
        "배를 타고 빠르게 벗어나기 위해 우선 파도를 파악해야합니다.\n",
        "\n",
        "파도가 일정한 간격으로 오고 있음을 발견했습니다.\n",
        "\n",
        "5분 동안 20번의 파도가 왔다면, 파도 한 번이 오는 데 걸리는 평균 시간을 구하세요.\n",
        "\n",
        "<br>"
      ]
    },
    {
      "cell_type": "code",
      "execution_count": 19,
      "metadata": {
        "colab": {
          "base_uri": "https://localhost:8080/"
        },
        "id": "HtkY5HgyPrY2",
        "outputId": "c6c5efed-50b9-4e2b-8007-810fcd513826"
      },
      "outputs": [
        {
          "data": {
            "text/plain": [
              "0.25"
            ]
          },
          "execution_count": 19,
          "metadata": {},
          "output_type": "execute_result"
        }
      ],
      "source": [
        "time = 5\n",
        "pado = 20\n",
        "average_wave = time / pado\n",
        "\n",
        "average_wave\n"
      ]
    },
    {
      "cell_type": "markdown",
      "metadata": {
        "id": "FPoJtz9rPrY2"
      },
      "source": [
        "<br>\n",
        "\n",
        "__[문제 8: 폭포의 높이]__\n",
        "\n",
        "<br>\n",
        "\n",
        "섬의 반대편의 무사히 도착했습니다.\n",
        "\n",
        "거대한 폭포가 당신의 길을 가로 막고 있습니다.\n",
        "\n",
        "자세히 보니 폭포 위쪽에 반짝이는 무언가가 있습니다. 당신이 찾던 보물일 수 있습니다.\n",
        "\n",
        "마법 룬을 이용해 폭포의 높이를 구하고 폭포의 위로 올라갑니다.\n",
        "\n",
        "물방울이 떨어져 땅에 닿는 데 걸리는 시간은 2초입니다. 중력가속도는 9.8m/s²입니다.\n",
        "\n",
        "돌문을 열때 사용한 숫자를 이용해 폭포의 높이를 구하세요. (단, 공기저항은 무시합니다.)\n",
        "\n",
        "<br>\n",
        "\n",
        "\n",
        "__Tips__\n",
        "- 높이 = 0.5 * 중력가속도 * (시간 + 돌문의 숫자의 마지막 자리 수)²\n",
        "\n",
        "<br>"
      ]
    },
    {
      "cell_type": "code",
      "execution_count": 20,
      "metadata": {
        "colab": {
          "base_uri": "https://localhost:8080/"
        },
        "id": "_BjKbc-pPrY2",
        "outputId": "c33ffd03-2541-4252-bdaa-470a4cbf9ca7"
      },
      "outputs": [
        {
          "name": "stdout",
          "output_type": "stream",
          "text": [
            "122.50000000000001\n"
          ]
        }
      ],
      "source": [
        "height1 = 0.5 * 9.8 * (2 + rockdoor % 10) **2\n",
        "\n",
        "print(height1)"
      ]
    },
    {
      "cell_type": "markdown",
      "metadata": {
        "id": "E8RApll3PrY2"
      },
      "source": [
        "<br>\n",
        "\n",
        "__[최종 문제: 탈출 비밀번호]__\n",
        "\n",
        "<br>\n",
        "\n",
        "보물을 찾았습니다.\n",
        "\n",
        "\n",
        "\n",
        "\n",
        "\n",
        "\n",
        "쿠우에에이이이이이이\n",
        "\n",
        "\n",
        "에일리언이 당신을 쫓아왔습니다. 당신은 곧 에일리언의 좋은 영양소가 될 것 같습니다.\n",
        "\n",
        "당신은 지금 정신을 차리고 앞에 보이는 에일리언의 우주선을 뻇어 섬을 탈출해야합니다.\n",
        "\n",
        "우주선에 타기 위해서는 비밀번호를 입력해야 합니다.\n",
        "\n",
        "비밀번호는 현재 좌표의 첫 번째 숫자와 세 번째 숫자의 차와 같습니다.\n",
        "\n",
        "비밀번호를 알아내세요!\n",
        "\n",
        "<br>\n",
        "\n",
        "현재 좌표 : 32, 43, 128\n",
        "\n",
        "<br>"
      ]
    },
    {
      "cell_type": "code",
      "execution_count": 21,
      "metadata": {
        "colab": {
          "base_uri": "https://localhost:8080/"
        },
        "id": "DnAd-xykPrY2",
        "outputId": "df6c5d38-8813-4665-c95d-92bed755302a"
      },
      "outputs": [
        {
          "name": "stdout",
          "output_type": "stream",
          "text": [
            "-96\n"
          ]
        }
      ],
      "source": [
        "current1 = 32\n",
        "current3 = 128\n",
        "\n",
        "pwd = current1 - current3\n",
        "\n",
        "print(pwd)"
      ]
    },
    {
      "cell_type": "markdown",
      "metadata": {
        "id": "G5sgM7Y5PrY2"
      },
      "source": []
    },
    {
      "cell_type": "code",
      "execution_count": 37,
      "metadata": {
        "colab": {
          "base_uri": "https://localhost:8080/"
        },
        "id": "nEkWk8LjcpBG",
        "outputId": "35d93726-d5df-4998-8cd5-3794bd353463"
      },
      "outputs": [
        {
          "name": "stdout",
          "output_type": "stream",
          "text": [
            "Drive already mounted at /content/drive; to attempt to forcibly remount, call drive.mount(\"/content/drive\", force_remount=True).\n"
          ]
        }
      ],
      "source": [
        "from google.colab import drive\n",
        "drive.mount('/content/drive')"
      ]
    },
    {
      "cell_type": "code",
      "execution_count": 41,
      "metadata": {
        "colab": {
          "base_uri": "https://localhost:8080/"
        },
        "id": "DEe9N_6acuX5",
        "outputId": "ae335366-5653-40ed-8d6f-c17f8be72c47"
      },
      "outputs": [
        {
          "name": "stdout",
          "output_type": "stream",
          "text": [
            "/content/python\n"
          ]
        }
      ],
      "source": [
        "%cd /content/python\n"
      ]
    },
    {
      "cell_type": "code",
      "execution_count": 42,
      "metadata": {
        "colab": {
          "base_uri": "https://localhost:8080/",
          "height": 36
        },
        "id": "KbCsXDXEosNv",
        "outputId": "ff0b531e-1954-4862-d7dc-9b4d6a5cee8c"
      },
      "outputs": [
        {
          "data": {
            "application/vnd.google.colaboratory.intrinsic+json": {
              "type": "string"
            },
            "text/plain": [
              "'/content/python/Ch04_task(code).ipynb'"
            ]
          },
          "execution_count": 42,
          "metadata": {},
          "output_type": "execute_result"
        }
      ],
      "source": [
        "import shutil\n",
        "\n",
        "# 파일 경로\n",
        "colab_file = \"/content/drive/MyDrive/Ch04_task(code).ipynb\"\n",
        "github_repo_path = \"/content/python/Ch04_task(code).ipynb\"\n",
        "\n",
        "# 파일 복사 (원본은 유지)\n",
        "shutil.copy(colab_file, github_repo_path)\n"
      ]
    },
    {
      "cell_type": "code",
      "execution_count": 43,
      "metadata": {
        "colab": {
          "base_uri": "https://localhost:8080/"
        },
        "id": "Gam7H2a-owZ_",
        "outputId": "95cdb1ac-0981-4d53-b384-39925a874fd5"
      },
      "outputs": [
        {
          "name": "stdout",
          "output_type": "stream",
          "text": [
            "'Ch04_task(code).ipynb'\n"
          ]
        }
      ],
      "source": [
        "!ls /content/python\n"
      ]
    },
    {
      "cell_type": "code",
      "execution_count": 45,
      "metadata": {
        "colab": {
          "base_uri": "https://localhost:8080/"
        },
        "id": "ddlDTpbqqUND",
        "outputId": "00513f5e-6c84-488c-bf0b-ee3dc12d24ae"
      },
      "outputs": [
        {
          "name": "stdout",
          "output_type": "stream",
          "text": [
            "/content\n",
            "fatal: destination path 'python' already exists and is not an empty directory.\n"
          ]
        }
      ],
      "source": [
        "%cd /content\n",
        "!git clone https://github.com/somineda/python.git\n"
      ]
    }
  ],
  "metadata": {
    "colab": {
      "provenance": []
    },
    "kernelspec": {
      "display_name": "Python 3",
      "name": "python3"
    },
    "language_info": {
      "codemirror_mode": {
        "name": "ipython",
        "version": 3
      },
      "file_extension": ".py",
      "mimetype": "text/x-python",
      "name": "python",
      "nbconvert_exporter": "python",
      "pygments_lexer": "ipython3",
      "version": "3.12.3"
    }
  },
  "nbformat": 4,
  "nbformat_minor": 0
}
