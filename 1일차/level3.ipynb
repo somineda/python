{
  "cells": [
    {
      "cell_type": "markdown",
      "metadata": {
        "id": "view-in-github",
        "colab_type": "text"
      },
      "source": [
        "<a href=\"https://colab.research.google.com/github/somineda/python/blob/main/level3.ipynb\" target=\"_parent\"><img src=\"https://colab.research.google.com/assets/colab-badge.svg\" alt=\"Open In Colab\"/></a>"
      ]
    },
    {
      "cell_type": "markdown",
      "metadata": {
        "id": "WXEwMsfUct7U"
      },
      "source": [
        "안녕하세요.<br><br>\n",
        "수강생 여러분~!\n",
        "\n",
        "\"Challenge : 사칙연산을 이용해 문제 풀기\"는 잘 풀어보셨나요?\n",
        "\n",
        "\n",
        "너~~무 어려웠어요! 하는 분들을 위해 만들어봤습니다!\n",
        "\n",
        "문제 도장깨기 !!!!!\n",
        "\n",
        "수학적 사고도 한번 길러보세용 :)\n",
        "\n",
        "차근차근 풀어나가면 파이썬 정복 가능입니다!\n",
        "\n",
        "화이팅 !\n",
        "\n",
        "\n",
        "Chapter04의 수업 내용을 바탕으로 아래 문제를 풀어주시면 됩니다.\n",
        "\n",
        "<br>\n",
        "\n",
        "[**답변 입력 방법**]\n",
        "\n",
        "문제 아래에 있는 코드 입력창에 정답코드를 작성하신 후  __▷ 버튼을 클릭해 코드를 실행__ 해보세요<br>\n",
        "<br>"
      ]
    },
    {
      "cell_type": "markdown",
      "metadata": {
        "id": "qoyC9wF-3hvs"
      },
      "source": [
        "-----"
      ]
    },
    {
      "cell_type": "markdown",
      "metadata": {
        "id": "eBx8qDUY0IM7"
      },
      "source": [
        "<br>\n",
        "\n",
        "__[문제1]__\n",
        "\n",
        "어떤 공원의 크기는 가로 50m, 세로 30m입니다.\n",
        "\n",
        "공원 내부에 5개의 조형물이 있으며, 각 조형물의 면적은 10m²입니다.\n",
        "\n",
        "이 공원의 실제 사용 면적을 구하세요. (cm로 구해주세요)\n",
        "\n",
        "\n"
      ]
    },
    {
      "cell_type": "code",
      "execution_count": 2,
      "metadata": {
        "colab": {
          "base_uri": "https://localhost:8080/"
        },
        "id": "5Vvf85bD0IM7",
        "outputId": "f1c61ca0-ffb1-4ed4-b843-3acdd052871a"
      },
      "outputs": [
        {
          "output_type": "execute_result",
          "data": {
            "text/plain": [
              "14500000"
            ]
          },
          "metadata": {},
          "execution_count": 2
        }
      ],
      "source": [
        "width = 50\n",
        "height = 30\n",
        "\n",
        "num_s = 5\n",
        "sculpture = 10\n",
        "\n",
        "total_area = width * height\n",
        "total_sculpture_area = num_s * sculpture\n",
        "usable_area = total_area - total_sculpture_area\n",
        "\n",
        "usable_area * 10000\n",
        "\n",
        "\n"
      ]
    },
    {
      "cell_type": "markdown",
      "metadata": {
        "id": "ZLhrltWf0IM7"
      },
      "source": [
        "<br>\n",
        "\n",
        "__[문제2]__\n",
        "\n",
        "2권씩 묶여서 팔리는 책의 가격은 12,000원입니다.\n",
        "\n",
        "나는 3묶음을 살 겁니다.\n",
        "\n",
        "근데 최종 가격을 보니 10%의 세금이 붙어있습니다.\n",
        "\n",
        "최종 가격을 구해주세요."
      ]
    },
    {
      "cell_type": "code",
      "execution_count": 3,
      "metadata": {
        "colab": {
          "base_uri": "https://localhost:8080/"
        },
        "id": "QicIZdfy0IM8",
        "outputId": "4aaf4def-ffdf-4aed-a1bb-74d702f986db"
      },
      "outputs": [
        {
          "output_type": "execute_result",
          "data": {
            "text/plain": [
              "39600.0"
            ]
          },
          "metadata": {},
          "execution_count": 3
        }
      ],
      "source": [
        "\n",
        "bookprice = 12000\n",
        "num = 3\n",
        "\n",
        "total_price = bookprice * 3\n",
        "taxrate = 0.10\n",
        "tax_amount = total_price * taxrate\n",
        "\n",
        "final_price = total_price + tax_amount\n",
        "\n",
        "\n",
        "final_price\n"
      ]
    },
    {
      "cell_type": "markdown",
      "metadata": {
        "id": "aIvtbpfA0IM8"
      },
      "source": [
        "<br>\n",
        "\n",
        "__[문제3]__\n",
        "\n",
        "가로 20m, 세로 15m인 직사각형 정원의 면적을 구하세요.\n"
      ]
    },
    {
      "cell_type": "code",
      "source": [
        "rectanglex = 20\n",
        "rectangley = 15\n",
        "\n",
        "area = rectanglex *rectangley\n",
        "\n",
        "print(area)"
      ],
      "metadata": {
        "colab": {
          "base_uri": "https://localhost:8080/"
        },
        "id": "TLtxzWhb2dX3",
        "outputId": "35cbd41b-4de4-48fa-c183-5587d566e894"
      },
      "execution_count": 4,
      "outputs": [
        {
          "output_type": "stream",
          "name": "stdout",
          "text": [
            "300\n"
          ]
        }
      ]
    },
    {
      "cell_type": "markdown",
      "metadata": {
        "id": "6isRiswD0IM8"
      },
      "source": [
        "<br>\n",
        "\n",
        "__[문제3-1]__\n",
        "\n",
        "문제 1에서 구한 정원의 면적에서, 정원의 5%를 차지하는 풀밭 면적을 구하세요.\n",
        "\n",
        "\n"
      ]
    },
    {
      "cell_type": "code",
      "execution_count": 5,
      "metadata": {
        "id": "9kvBxa6PdhgA",
        "colab": {
          "base_uri": "https://localhost:8080/"
        },
        "outputId": "ab415b54-32ed-4e18-f787-20553524ce5d"
      },
      "outputs": [
        {
          "output_type": "stream",
          "name": "stdout",
          "text": [
            "15.0\n"
          ]
        }
      ],
      "source": [
        "grassarea = area * 0.05\n",
        "\n",
        "print(grassarea)"
      ]
    },
    {
      "cell_type": "markdown",
      "metadata": {
        "id": "2Jte2VLKdiPm"
      },
      "source": [
        "__[문제3-2]__\n",
        "\n",
        "풀밭 면적을 제외한 나머지 정원의 면적에 나무를 심고 싶습니다.\n",
        "\n",
        "나무 1그루가 차지하는 면적이 2m²일 때, 심을 수 있는 나무의 최대 개수를 구하세요."
      ]
    },
    {
      "cell_type": "code",
      "execution_count": 6,
      "metadata": {
        "colab": {
          "base_uri": "https://localhost:8080/"
        },
        "id": "oEhSKTbm0IM8",
        "outputId": "42e533f8-f3f5-4f9d-cefc-e1f8f3bbcb71"
      },
      "outputs": [
        {
          "output_type": "execute_result",
          "data": {
            "text/plain": [
              "142.0"
            ]
          },
          "metadata": {},
          "execution_count": 6
        }
      ],
      "source": [
        "remaining_area = area - grassarea\n",
        "\n",
        "\n",
        "treearea = 2\n",
        "\n",
        "trees_amount = remaining_area // treearea\n",
        "trees_amount\n"
      ]
    }
  ],
  "metadata": {
    "colab": {
      "provenance": [],
      "include_colab_link": true
    },
    "kernelspec": {
      "display_name": "Python 3",
      "name": "python3"
    },
    "language_info": {
      "codemirror_mode": {
        "name": "ipython",
        "version": 3
      },
      "file_extension": ".py",
      "mimetype": "text/x-python",
      "name": "python",
      "nbconvert_exporter": "python",
      "pygments_lexer": "ipython3",
      "version": "3.12.3"
    }
  },
  "nbformat": 4,
  "nbformat_minor": 0
}
