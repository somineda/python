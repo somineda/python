{
  "cells": [
    {
      "cell_type": "markdown",
      "metadata": {
        "id": "view-in-github",
        "colab_type": "text"
      },
      "source": [
        "<a href=\"https://colab.research.google.com/github/somineda/python/blob/main/S_Ch01_task.ipynb\" target=\"_parent\"><img src=\"https://colab.research.google.com/assets/colab-badge.svg\" alt=\"Open In Colab\"/></a>"
      ]
    },
    {
      "cell_type": "markdown",
      "metadata": {
        "id": "pO-izH1l39Sf"
      },
      "source": [
        "<span style=\"font-size:100%\">\n",
        "\n",
        "수업은 모두 열심히 들으셨나요?\n",
        "\n",
        "간혹 강의에서 언급되지 않은 내용이 문제로 나올 수 있습니다.<br>\n",
        "그럴땐 강의 내용 외 문제는 구글링을 통해 해결해주세요<br></span>\n",
        "<span style=\"font-size:80%\">\n",
        "(구글링 또한 개발자가 갖쳐야할 역량 중에 하나랍니다 😊)\n",
        "</span>\n",
        "\n",
        "---"
      ]
    },
    {
      "cell_type": "markdown",
      "metadata": {
        "id": "Or6PL4Jb39Sg"
      },
      "source": [
        "<span style=\"font-size:80%\">[문제1]<br><br></span>\n",
        "```인터프리트 방식에 대해 설명하고 2개 이상의 장점을 설명해주세요```"
      ]
    },
    {
      "cell_type": "markdown",
      "metadata": {
        "id": "HH4prLkU39Sg"
      },
      "source": [
        "<span style=\"color:red\">답변</span>"
      ]
    },
    {
      "cell_type": "markdown",
      "metadata": {
        "id": "kgEPO09e39Sh"
      },
      "source": [
        "인터프리트방식: 코드를 한줄씩 읽고 바로 실행하는 방식\n",
        " 장점:\n",
        "- 컴파일 과정 없이 바로 실행 가능해서 개발 속도가 빠름\n",
        "- 디버깅이 쉬움\n",
        "- 다양한 운영체제에서 실행 가능, 호환성이 높음"
      ]
    },
    {
      "cell_type": "markdown",
      "metadata": {
        "id": "YSMKQbDW39Sh"
      },
      "source": [
        "---"
      ]
    },
    {
      "cell_type": "markdown",
      "metadata": {
        "id": "uzL8rTHv39Sh"
      },
      "source": [
        "<span style=\"font-size:80%\">[문제2]<br><br></span>\n",
        "```동적 타입 방식의 장점과 단점을 간략히 설명해주세요```"
      ]
    },
    {
      "cell_type": "markdown",
      "source": [],
      "metadata": {
        "id": "Xq9dqrwA-HBa"
      }
    },
    {
      "cell_type": "markdown",
      "metadata": {
        "id": "t4LCBmSr39Sh"
      },
      "source": [
        "<span style=\"color:red\">답변</span>"
      ]
    },
    {
      "cell_type": "markdown",
      "metadata": {
        "id": "q0VDYkIo39Sh"
      },
      "source": [
        "동적 타입 방식은 변수를 선언할 때 자료형을 명시적으로 지정하지 않고 실행 중에 자동으로 결정되는 방식\n",
        "<br>\n",
        "장점:\n",
        "- 코드가 간결하고 가독성 좋음\n",
        "- 유연성 높음<br>\n",
        "단점:\n",
        "- 타입오류가 런타임에 발생\n",
        "- 성능저하\n"
      ]
    },
    {
      "cell_type": "markdown",
      "metadata": {
        "id": "fUNR8fT539Sh"
      },
      "source": [
        "---"
      ]
    },
    {
      "cell_type": "markdown",
      "metadata": {
        "id": "lfrwYKHx39Sh"
      },
      "source": [
        "<span style=\"font-size:80%\">[문제3]<br><br></span>\n",
        "```Python으로 정적타입 방식의 코드를 작성할 수 있는 방법을 구글링을 통해 검색 후 설명해주세요```"
      ]
    },
    {
      "cell_type": "markdown",
      "metadata": {
        "id": "pPcG7pIm39Si"
      },
      "source": [
        "<span style=\"color:red\">답변</span>"
      ]
    },
    {
      "cell_type": "markdown",
      "metadata": {
        "id": "gNEBahVT39Si"
      },
      "source": [
        "타입 힌트를 작성한 후 Mypy와 같은 정적 타입 검사 도구를 사용하여 코드의 타입 일관성을 확인"
      ]
    },
    {
      "cell_type": "markdown",
      "metadata": {
        "id": "uDaMXhX_39Si"
      },
      "source": [
        "---"
      ]
    },
    {
      "cell_type": "markdown",
      "metadata": {
        "id": "bQPkYhZ539Si"
      },
      "source": [
        "<span style=\"font-size:80%\">[문제4]<br><br></span>\n",
        "```프로세스와 스레드의 차이점을 설명해주세요```"
      ]
    },
    {
      "cell_type": "markdown",
      "metadata": {
        "id": "R709ssUE39Si"
      },
      "source": [
        "<span style=\"color:red\">답변</span>"
      ]
    },
    {
      "cell_type": "markdown",
      "metadata": {
        "id": "TXJI5A-W39Si"
      },
      "source": [
        "프로그램을 실행하면 프로세스가 생성되고 프로세스 내부에서 여러 개의 스레드가 실행\n",
        "<br>\n",
        "프로세스: 운영체제에서 실행 중인 독립적인 프로그램 단위\n",
        "각 프로세스는 독립된 메모리 공간을 가짐\n",
        "한 프로세스는 다른 프로세스의 메모리에 직접 접근할 수 없음\n",
        "CPU 스케줄링을 통해 여러 프로세스가 실행됨 (멀티프로세싱)\n",
        "<br>\n",
        "스레드: 프로세스 내에서 실행되는 작업의 흐름\n",
        "같은 프로세스 내의 여러 스레드는 메모리를 공유\n",
        "멀티스레딩을 통해 한 프로세스가 여러 작업을 동시에 수행할 수 있음\n",
        "CPU 컨텍스트 스위칭이 적어 속도가 빠르고 메모리 사용량이 적음\n"
      ]
    },
    {
      "cell_type": "markdown",
      "metadata": {
        "id": "-UOFo_1N39Si"
      },
      "source": [
        "---"
      ]
    },
    {
      "cell_type": "markdown",
      "metadata": {
        "id": "hgG-dPqH39Si"
      },
      "source": [
        "<span style=\"font-size:80%\">[문제5]<br><br></span>\n",
        "```Python 2버전대와 3버전대의 차이를 성명해주세요```"
      ]
    },
    {
      "cell_type": "markdown",
      "metadata": {
        "id": "u_PiEGsS39Si"
      },
      "source": [
        "<span style=\"color:red\">답변</span>"
      ]
    },
    {
      "cell_type": "markdown",
      "metadata": {
        "id": "Zl57R54k39Si"
      },
      "source": [
        "Python 2는 기존 코드와의 호환성을 유지하는 데 초점을 맞춘 버전\n",
        "Python 3는 미래 지향적인 개선과 성능 향상을 목표로 만들어진 버전"
      ]
    },
    {
      "cell_type": "markdown",
      "metadata": {
        "id": "Jz0bT9pT39Si"
      },
      "source": [
        "---"
      ]
    },
    {
      "cell_type": "markdown",
      "metadata": {
        "id": "KXdiIJ7339Si"
      },
      "source": [
        "<span style=\"font-size:80%\">[문제6]<br><br></span>\n",
        "```Python에서 메모리 관리는 어떻게 이루어지는지 설명해주세요```"
      ]
    },
    {
      "cell_type": "markdown",
      "metadata": {
        "id": "M4RfWPdk39Sj"
      },
      "source": [
        "<span style=\"color:red\">답변</span>"
      ]
    },
    {
      "cell_type": "markdown",
      "metadata": {
        "id": "5ttLj1Qv39Sj"
      },
      "source": [
        "자동메모리관리가 이루어집니다"
      ]
    }
  ],
  "metadata": {
    "language_info": {
      "name": "python"
    },
    "colab": {
      "provenance": [],
      "include_colab_link": true
    }
  },
  "nbformat": 4,
  "nbformat_minor": 0
}
