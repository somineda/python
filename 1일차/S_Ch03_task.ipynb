{
  "cells": [
    {
      "cell_type": "markdown",
      "metadata": {
        "id": "view-in-github",
        "colab_type": "text"
      },
      "source": [
        "<a href=\"https://colab.research.google.com/github/somineda/python/blob/main/S_Ch03_task.ipynb\" target=\"_parent\"><img src=\"https://colab.research.google.com/assets/colab-badge.svg\" alt=\"Open In Colab\"/></a>"
      ]
    },
    {
      "cell_type": "markdown",
      "metadata": {
        "id": "vzWHCgtX_kPK"
      },
      "source": [
        "<span style=\"font-size:100%\">\n",
        "\n",
        "수업은 모두 열심히 들으셨나요?\n",
        "\n",
        "간혹 강의에서 언급되지 않은 내용이 문제로 나올 수 있습니다.<br>\n",
        "그럴땐 강의 내용 외 문제는 구글링을 통해 해결해주세요<br></span>\n",
        "<span style=\"font-size:80%\">\n",
        "(구글링 또한 개발자가 갖쳐야할 역량 중에 하나랍니다 😊)\n",
        "</span>\n",
        "\n",
        "---"
      ]
    },
    {
      "cell_type": "markdown",
      "metadata": {
        "id": "LcpwhXi5_kPL"
      },
      "source": [
        "<span style=\"font-size:80%\">[문제1]<br><br></span>\n",
        "```주로 작성 중인 코드의 끝을 알리는 기호로 사용되며 파이썬에서 한 줄에 작성된 서로 다른 코드를 구분 지을 때 사용할 수 있는 기호를 골라주세요```\n",
        "\n",
        "1. ' , ' (쉼표)\n",
        "2. ' + ' (더하기 기호)\n",
        "3. ' ; ' (세미콜론)\n",
        "4. ' / ' (슬래시)"
      ]
    },
    {
      "cell_type": "markdown",
      "metadata": {
        "id": "qskvnwPq_kPM"
      },
      "source": [
        "<span style=\"color:red\">답변</span> : ;\n",
        "\n",
        "\n",
        "\n"
      ]
    },
    {
      "cell_type": "markdown",
      "metadata": {
        "id": "rCd4oNyr_kPM"
      },
      "source": []
    },
    {
      "cell_type": "markdown",
      "metadata": {
        "id": "_xJkmcd8_kPM"
      },
      "source": [
        "----"
      ]
    },
    {
      "cell_type": "markdown",
      "metadata": {
        "id": "NFGJQGBC_kPM"
      },
      "source": [
        "<span style=\"font-size:80%\">[문제2]<br><br></span>\n",
        "```Python의 PEP 8은 무엇인지 설명하고 PEP 8의 핵심적인 규칙을 1개 이상을 설명해주세요```"
      ]
    },
    {
      "cell_type": "markdown",
      "metadata": {
        "id": "TfwRzvZR_kPM"
      },
      "source": [
        "<span style=\"color:red\">답변:</span>\n",
        "<br>\n",
        "파이썬 코드 스타일 가이드라인을 정의한 문서<br>\n",
        "코드 가독성과 일관성을 높이기 위해 파이썬 공식적으로 권장하는 스타일 규칙\n",
        "<br>\n",
        "1. 들여쓰기는 4칸 공백 사용\n",
        "2. 변수와 함수 이름은 소문자 + 언더스코어 사용\n",
        "3. 최대 줄 길이는 79자\n",
        "\n"
      ]
    },
    {
      "cell_type": "markdown",
      "metadata": {
        "id": "pXJC_KWH_kPN"
      },
      "source": []
    },
    {
      "cell_type": "markdown",
      "metadata": {
        "id": "3QU-r_FZ_kPN"
      },
      "source": [
        "----"
      ]
    },
    {
      "cell_type": "markdown",
      "metadata": {
        "id": "cw1WUMUh_kPN"
      },
      "source": [
        "<span style=\"font-size:80%\">[문제3]<br><br></span>\n",
        "```Python에서 \"#\"이 의마하는 것은 무엇인지 설명해주세요```"
      ]
    },
    {
      "cell_type": "markdown",
      "metadata": {
        "id": "AFpSIlZr_kPN"
      },
      "source": [
        "<span style=\"color:red\">답변: 주석</span>"
      ]
    },
    {
      "cell_type": "markdown",
      "metadata": {
        "id": "GbU7uiIO_kPN"
      },
      "source": []
    },
    {
      "cell_type": "markdown",
      "metadata": {
        "id": "ChUWDAfl_kPN"
      },
      "source": [
        "----"
      ]
    },
    {
      "cell_type": "markdown",
      "metadata": {
        "id": "OU1TW4U__kPN"
      },
      "source": [
        "<span style=\"font-size:80%\">[문제4]<br><br></span>\n",
        "```Python의 들여쓰기 장점과 기능에 대해 설명해주세요```"
      ]
    },
    {
      "cell_type": "markdown",
      "metadata": {
        "id": "L4UpJmFL_kPN"
      },
      "source": [
        "<span style=\"color:red\">답변: 들여쓰기를 사용하여 코드블럭을 구분, 중괄호 없이 코드 범위 정의 제어문에 사용 </span>"
      ]
    },
    {
      "cell_type": "markdown",
      "metadata": {
        "id": "2LVjC4Ts_kPN"
      },
      "source": []
    },
    {
      "cell_type": "markdown",
      "metadata": {
        "id": "wHAauMYE_kPN"
      },
      "source": [
        "----"
      ]
    },
    {
      "cell_type": "markdown",
      "metadata": {
        "id": "1xO5ryVv_kPN"
      },
      "source": [
        "<span style=\"font-size:80%\">[문제5]<br><br></span>\n",
        "```print( )문의 기능 및 특징에 대해 설명해주세요```"
      ]
    },
    {
      "cell_type": "markdown",
      "metadata": {
        "id": "ppuuAWRd_kPO"
      },
      "source": [
        "<span style=\"color:red\">답변: 콘솔에 값을 출력</span>"
      ]
    },
    {
      "cell_type": "code",
      "execution_count": null,
      "metadata": {
        "vscode": {
          "languageId": "plaintext"
        },
        "id": "j97TnEJw_kPO"
      },
      "outputs": [],
      "source": []
    },
    {
      "cell_type": "markdown",
      "metadata": {
        "id": "Tws1SWc1_kPO"
      },
      "source": []
    }
  ],
  "metadata": {
    "language_info": {
      "name": "python"
    },
    "colab": {
      "provenance": [],
      "include_colab_link": true
    }
  },
  "nbformat": 4,
  "nbformat_minor": 0
}
