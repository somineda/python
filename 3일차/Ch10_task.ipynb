{
  "cells": [
    {
      "cell_type": "markdown",
      "metadata": {
        "id": "view-in-github",
        "colab_type": "text"
      },
      "source": [
        "<a href=\"https://colab.research.google.com/github/somineda/python/blob/main/Ch10_task.ipynb\" target=\"_parent\"><img src=\"https://colab.research.google.com/assets/colab-badge.svg\" alt=\"Open In Colab\"/></a>"
      ]
    },
    {
      "cell_type": "markdown",
      "metadata": {
        "id": "gRuaXTxiESmB"
      },
      "source": [
        "<span style=\"font-size:100%\">\n",
        "\n",
        "수업은 모두 열심히 들으셨나요?\n",
        "\n",
        "간혹 강의에서 언급되지 않은 내용이 문제로 나올 수 있습니다.<br>\n",
        "그럴땐 강의 내용 외 문제는 구글링을 통해 해결해주세요<br></span>\n",
        "<span style=\"font-size:80%\">\n",
        "(구글링 또한 개발자가 갖쳐야할 역량 중에 하나랍니다 😊)\n",
        "</span>\n",
        "\n",
        "---"
      ]
    },
    {
      "cell_type": "markdown",
      "metadata": {
        "id": "0ZugXbwNESmD"
      },
      "source": [
        "<span style=\"font-size:80%\">[문제1]<br><br></span>\n",
        "아래 리스트에 들어있는 값의 평균을 구하는 코드를 작성해주세요\n",
        "\n",
        "x = [34, 22, 10, 3, 55, 66]"
      ]
    },
    {
      "cell_type": "markdown",
      "metadata": {
        "id": "StxTTqv3ESmD"
      },
      "source": [
        "<span style=\"color:red\">답변:</span>"
      ]
    },
    {
      "cell_type": "code",
      "source": [
        "x = [34, 22, 10, 3, 55, 66]\n",
        "avg = sum(x)/len(x)\n",
        "print(avg)"
      ],
      "metadata": {
        "colab": {
          "base_uri": "https://localhost:8080/"
        },
        "id": "_m0cECW3Ep3I",
        "outputId": "43da3007-663f-4d83-acf5-121daef4bc56"
      },
      "execution_count": 2,
      "outputs": [
        {
          "output_type": "stream",
          "name": "stdout",
          "text": [
            "31.666666666666668\n"
          ]
        }
      ]
    },
    {
      "cell_type": "markdown",
      "metadata": {
        "id": "GcYvLUFwESmD"
      },
      "source": []
    },
    {
      "cell_type": "markdown",
      "metadata": {
        "id": "6PubwLgmESmD"
      },
      "source": [
        "----"
      ]
    },
    {
      "cell_type": "markdown",
      "metadata": {
        "id": "MatoYLcuESmD"
      },
      "source": [
        "<span style=\"font-size:80%\">[문제2]<br><br></span>\n",
        "리스트 안에 있는 데이터를 오름차순으로 정렬하는 메소드를 모두 골라주세요\n",
        "\n",
        "1. upper()\n",
        "2. low()\n",
        "3. sort()\n",
        "4. hight()\n",
        "5. sorted()"
      ]
    },
    {
      "cell_type": "markdown",
      "metadata": {
        "id": "VLUizOdbESmD"
      },
      "source": [
        "<span style=\"color:red\">답변: 3,5</span>"
      ]
    },
    {
      "cell_type": "markdown",
      "metadata": {
        "id": "9H_zqFBOESmD"
      },
      "source": []
    },
    {
      "cell_type": "markdown",
      "metadata": {
        "id": "TiahVzfBESmD"
      },
      "source": [
        "----"
      ]
    },
    {
      "cell_type": "markdown",
      "metadata": {
        "id": "eLdnwHZCESmE"
      },
      "source": [
        "<span style=\"font-size:80%\">[문제3]<br><br></span>\n",
        "리스트 x가 있을 때 x.append(7)과 결과가 동일한 것을 모두 골라주세요\n",
        "\n",
        "\n",
        "1. x[-1:] = [7]\n",
        "2. x.insert(len(x), 7)\n",
        "3. x[0:] = 7\n",
        "4. x[len(x):] = 7\n",
        "5. x[len(x):] = [7]"
      ]
    },
    {
      "cell_type": "markdown",
      "metadata": {
        "id": "bOFe_-K9ESmE"
      },
      "source": [
        "<span style=\"color:red\">답변:2</span>"
      ]
    },
    {
      "cell_type": "markdown",
      "metadata": {
        "id": "qRy1cEEeESmE"
      },
      "source": []
    },
    {
      "cell_type": "markdown",
      "metadata": {
        "id": "AJPMEGlKESmE"
      },
      "source": [
        "----"
      ]
    },
    {
      "cell_type": "markdown",
      "metadata": {
        "id": "Sc0POy5RESmE"
      },
      "source": [
        "<span style=\"font-size:80%\">[문제4]<br><br></span>\n",
        "리스트의 모든 요소를 삭제하는 메서드를 골라주세요\n",
        "\n",
        "1. remove\n",
        "2. clean\n",
        "3. pop\n",
        "4. clear\n",
        "5. reverse"
      ]
    },
    {
      "cell_type": "markdown",
      "metadata": {
        "id": "YjqWD70sESmE"
      },
      "source": [
        "<span style=\"color:red\">답변: clear</span>"
      ]
    },
    {
      "cell_type": "markdown",
      "metadata": {
        "id": "4s2AeV4xESmE"
      },
      "source": []
    },
    {
      "cell_type": "markdown",
      "metadata": {
        "id": "kK-T5g5WESmE"
      },
      "source": [
        "----"
      ]
    },
    {
      "cell_type": "markdown",
      "metadata": {
        "id": "5k89mLfiESmE"
      },
      "source": [
        "<span style=\"font-size:80%\">[문제5]<br><br></span>\n",
        "[3.1, 6.7, 4.4]가 들어있는 리스트의 값을 문자열로 변환 후 다시 리스트로 만들어 변수 x에 담는 코드를 골라주세요\n",
        "\n",
        "1. x = list(str, [3.1, 6.7, 4.4])\n",
        "2. x = map(str, [3.1, 6.7, 4.4])\n",
        "3. x = str([3.1, 6.7, 4.4])\n",
        "4. x = list(map(str, [3.1, 6.7, 4.4]))\n",
        "5. x = map(int, [3.1, 6.7, 4.4])"
      ]
    },
    {
      "cell_type": "markdown",
      "metadata": {
        "id": "lEmfsxFXESmE"
      },
      "source": [
        "<span style=\"color:red\">답변:2</span>"
      ]
    },
    {
      "cell_type": "markdown",
      "metadata": {
        "id": "STrU_jSmESmE"
      },
      "source": []
    }
  ],
  "metadata": {
    "language_info": {
      "name": "python"
    },
    "colab": {
      "provenance": [],
      "include_colab_link": true
    },
    "kernelspec": {
      "name": "python3",
      "display_name": "Python 3"
    }
  },
  "nbformat": 4,
  "nbformat_minor": 0
}
