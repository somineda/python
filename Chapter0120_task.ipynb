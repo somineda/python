{
  "cells": [
    {
      "cell_type": "markdown",
      "metadata": {
        "id": "view-in-github",
        "colab_type": "text"
      },
      "source": [
        "<a href=\"https://colab.research.google.com/github/somineda/python/blob/main/Chapter0120_task.ipynb\" target=\"_parent\"><img src=\"https://colab.research.google.com/assets/colab-badge.svg\" alt=\"Open In Colab\"/></a>"
      ]
    },
    {
      "cell_type": "markdown",
      "metadata": {
        "id": "aLkxKxnFLowa"
      },
      "source": [
        "안녕하세요. 수강생 여러분~! Chapter17 ~ 20 수업은 잘 들으셨나요?\n",
        "\n",
        "Chapter01 ~ 20의 수업 내용을 바탕으로 아래 문제를 풀어주시면 됩니다.\n",
        "\n",
        "저번에 했던 \"붕어빵 자동 판매 시스템\"을 리팩토링 해봅시다 !!!\n",
        "\n",
        "못해도 괜찮아요 ! 같이 해봅시다 !\n",
        "\n",
        "<br>\n",
        "\n",
        "\n",
        "[**답변 입력 방법**]\n",
        "\n",
        "문제 아래에 있는 코드 입력창에 정답코드를 작성하신 후  __▷ 버튼을 클릭해 코드를 실행__ 해보세요<br>"
      ]
    },
    {
      "cell_type": "markdown",
      "metadata": {
        "id": "frlqmjJUba0v"
      },
      "source": [
        "### 리팩토링 과제\n",
        "\n",
        "Day4에서 만든 \"붕어빵 자동 판매 시스템\"은 절차적 코드로 구현되어있습니다.\n",
        "<br>\n",
        "\n",
        "Day5에서 배운 함수, 클래스 개념을 적용시켜 객체지향적으로 리팩토링을 진행해주세요\n"
      ]
    },
    {
      "cell_type": "code",
      "execution_count": null,
      "metadata": {
        "id": "VQajXZC_ba0v"
      },
      "outputs": [],
      "source": [
        "# 리팩토링 과제 힌트\n",
        "# 구조는 아래와 같습니다.\n",
        "class BungeoppangShop:\n",
        "    def __init__(self):\n",
        "\n",
        "    def check_stock(self):\n",
        "\n",
        "    def process_order(self, bread_type, bread_count):\n",
        "\n",
        "    def admin_mode(self):\n",
        "\n",
        "    def calculate_total_sales(self):\n",
        "\n",
        "def main():\n",
        "\n",
        "if __name__ == \"__main__\":\n",
        "    main()\n"
      ]
    },
    {
      "cell_type": "markdown",
      "metadata": {
        "id": "umiSl6gEba0w"
      },
      "source": [
        "__BungeoppangShop 클래스__\n",
        "\n",
        "- __init__(): 초기 재고, 가격, 판매량을 설정합니다.\n",
        "- check_stock(): 현재 재고를 출력합니다.\n",
        "- process_order(): 주문을 처리하고 재고를 업데이트합니다.\n",
        "- admin_mode(): 관리자 모드에서 재고를 추가합니다.\n",
        "- calculate_total_sales(): 총 매출을 계산하고 출력합니다."
      ]
    },
    {
      "cell_type": "markdown",
      "metadata": {
        "id": "Hey6JfPEba0w"
      },
      "source": [
        "__[과제 1: 초기화 메서드 __init__]__\n",
        "\n",
        "목표: __init__ 메서드를 구현하여 붕어빵 가게의 초기 재고, 가격, 판매량을 설정합니다.\n",
        "\n",
        "설명: self.stock, self.prices, self.sales 딕셔너리를 초기화하세요.\n",
        "- stock\n",
        "    - \"팥붕어빵\": 10\n",
        "    - \"슈크림붕어빵\": 8\n",
        "    - \"초코붕어빵\": 5\n",
        "\n",
        "- prices\n",
        "    - \"팥붕어빵\": 1000\n",
        "    - \"슈크림붕어빵\": 1200\n",
        "    - \"초코붕어빵\": 1500\n",
        "\n",
        "- sales\n",
        "    - \"팥붕어빵\": 0,\n",
        "    - \"슈크림붕어빵\": 0,\n",
        "    - \"초코붕어빵\": 0"
      ]
    },
    {
      "cell_type": "markdown",
      "metadata": {
        "id": "AJZTXUthba0w"
      },
      "source": [
        "__[과제 2: 재고 확인 메서드 check_stock]__\n",
        "\n",
        "목표: check_stock 함수를 구현하여 현재 붕어빵 재고를 출력합니다.\n",
        "\n",
        "설명: self.stock 딕셔너리를 순회하며 각 붕어빵의 종류와 재고를 출력하세요.\n"
      ]
    },
    {
      "cell_type": "markdown",
      "metadata": {
        "id": "AfiLq9Wmba0w"
      },
      "source": [
        "__[과제 3: 주문 처리 메서드 process_order]__\n",
        "\n",
        "목표: process_order 함수를 구현하여 손님의 주문을 처리하고 재고를 업데이트합니다.\n",
        "\n",
        "설명: bread_type과 bread_count를 매개변수로 받아, 재고를 확인하고 충분한 경우 재고를 감소시키고 판매량을 증가시킵니다. 재고가 부족하거나 잘못된 붕어빵 종류인 경우 적절한 메시지를 출력하세요."
      ]
    },
    {
      "cell_type": "markdown",
      "metadata": {
        "id": "nDYzxCYyba0w"
      },
      "source": [
        "__[과제 4: 관리자 모드 메서드 admin_mode]__\n",
        "\n",
        "목표: admin_mode 메서드를 구현하여 관리자 모드에서 재고를 추가할 수 있도록 합니다.\n",
        "\n",
        "설명: bread_type과 additional_stock을 입력받아 재고를 추가합니다. 잘못된 입력 값이 들어온 경우 적절한 메시지를 출력하세요."
      ]
    },
    {
      "cell_type": "markdown",
      "metadata": {
        "id": "SfW4bzItba0x"
      },
      "source": [
        "\n",
        "__[과제 5: 매출 계산 메서드 calculate_total_sales]__\n",
        "\n",
        "목표: calculate_total_sales 메서드를 구현하여 총 매출을 계산하고 출력합니다.\n",
        "\n",
        "설명: self.sales와 self.prices를 사용하여 총 매출을 계산하고 출력하세요."
      ]
    },
    {
      "cell_type": "code",
      "source": [
        "class FishBreadshop:\n",
        "  def __init__(self):\n",
        "    self.stock={\n",
        "        \"팥붕어빵\": 10,\n",
        "        \"슈크림붕어빵\": 8,\n",
        "        \"초코붕어빵\": 5 }\n",
        "    self.prices={\n",
        "        \"팥붕어빵\": 1000,\n",
        "        \"슈크림붕어빵\": 1200,\n",
        "        \"초코붕어빵\": 1500\n",
        "        }\n",
        "    self.sales = {\n",
        "     \"팥붕어빵\": 0,\n",
        "     \"슈크림붕어빵\": 0,\n",
        "     \"초코붕어빵\": 0\n",
        "    }\n",
        "\n",
        "  #목표: check_stock 함수를 구현하여 현재 붕어빵 재고를 출력합니다.\n",
        "  #설명: self.stock 딕셔너리를 순회하며 각 붕어빵의 종류와 재고를 출력하세요.\n",
        "\n",
        "  def check_stock(self):\n",
        "    print(\"붕어빵 재고 확인:\")\n",
        "    for boong, ea in self.stock.items():\n",
        "      print(f\"{boong}의 개수는 {ea}개 입니다\")\n",
        "\n",
        "\n",
        "\n",
        "#목표: process_order 함수를 구현하여 손님의 주문을 처리하고 재고를 업데이트합니다.\n",
        "#설명: bread_type과 bread_count를 매개변수로 받아, 재고를 확인하고 충분한 경우 재고를 감소시키고 판매량을 증가시킵니다. 재고가 부족하거나 잘못된 붕어빵 종류인 경우 적절한 메시지를 출력하세요.\n",
        "\n",
        "  def process_order(self):\n",
        "    print(\"주문을 멈추고 싶으면 종료를 입력하세요\\n\")\n",
        "    while True:\n",
        "        self.bread_type = input(\"주문할 붕어빵 종류를 입력하세요: \")\n",
        "        if self.bread_type == \"종료\":\n",
        "          print(\"주문을 종료합니다\\n\")\n",
        "          break\n",
        "\n",
        "        self.bread_num = int(input(\"주문할 붕어빵 개수를 입력하세요: \"))\n",
        "\n",
        "        if self.bread_type in self.stock:\n",
        "             if self.stock[self.bread_type]>= self.bread_num:\n",
        "                self.stock[self.bread_type]-=self.bread_num\n",
        "                self.sales[self.bread_type] += self.bread_num * self.prices[self.bread_type]\n",
        "                print(f\"{self.bread_type}{self.bread_num}개 팔렸습니다!\\n\")\n",
        "             elif self.stock[self.bread_type] == 0:\n",
        "                  del self.stock[self.bread_type]\n",
        "                  print(f\"{self.bread_type} 품절입니당\\n\")\n",
        "             else :\n",
        "                print(\"재고가 부족합니다!\\n\")\n",
        "\n",
        "    print(f\"현재재고는 {self.stock} 입니다\\n\")\n",
        "\n",
        "\n",
        "#목표: admin_mode 메서드를 구현하여 관리자 모드에서 재고를 추가할 수 있도록 합니다.\n",
        "\n",
        "#설명: bread_type과 additional_stock을 입력받아 재고를 추가합니다. 잘못된 입력 값이 들어온 경우 적절한 메시지를 출력하세요.\n",
        "  def admin_mode(self):\n",
        "      print(\"** 주문을 하고 싶으면 숫자 1, 관리자 모드를 열고싶으면 숫자 2를 누르세요 **\\n\")\n",
        "      self.select_mode = int(input(\"모드를 선택합니다:\"))\n",
        "      if self.select_mode ==1:\n",
        "        self.process_order()\n",
        "\n",
        "      elif self.select_mode == 2:\n",
        "        print(\"관리자 모드를 종료하려면 종료를 입력하세요!!\\n\")\n",
        "        while True:\n",
        "          self.manager_type= input(\"추가할 붕어빵 종류를 입력하세요:\")\n",
        "\n",
        "          if self.manager_type == \"종료\":\n",
        "            print(\"관리자 모드를 종료합니다\")\n",
        "            break\n",
        "\n",
        "          self.manager_num = int(input(\"추가할 붕어빵 개수를 입력하세요:\"))\n",
        "          if self.manager_type in self.stock:\n",
        "            self.stock[self.manager_type] += self.manager_num\n",
        "          else:\n",
        "            print(\"존재하지 않는 항목입니다\\n\")\n",
        "\n",
        "\n",
        "          print(\"\\n현재 재고는:\\n\",self.stock)\n",
        "\n",
        "\n",
        "#목표: calculate_total_sales 메서드를 구현하여 총 매출을 계산하고 출력합니다.\n",
        "\n",
        "#설명: self.sales와 self.prices를 사용하여 총 매출을 계산하고 출력하세요.\n",
        "  def calculate_total_sales(self):\n",
        "    total_sales = sum(self.sales.values())\n",
        "    print(f\"붕어빵의 총 매출액은 {total_sales}원 입니다!!!!!\")\n",
        "\n",
        "\n",
        "shop = FishBreadshop()\n",
        "shop.check_stock()\n",
        "shop.admin_mode()\n",
        "shop.calculate_total_sales()"
      ],
      "metadata": {
        "id": "u4qLXYsaefGe",
        "colab": {
          "base_uri": "https://localhost:8080/"
        },
        "outputId": "cc25e2ec-3e2b-4a66-ff48-3f21e83a5057"
      },
      "execution_count": 34,
      "outputs": [
        {
          "output_type": "stream",
          "name": "stdout",
          "text": [
            "붕어빵 재고 확인:\n",
            "팥붕어빵의 개수는 10개 입니다\n",
            "슈크림붕어빵의 개수는 8개 입니다\n",
            "초코붕어빵의 개수는 5개 입니다\n",
            "** 주문을 하고 싶으면 숫자 1, 관리자 모드를 열고싶으면 숫자 2를 누르세요 **\n",
            "\n",
            "모드를 선택합니다:1\n",
            "주문을 멈추고 싶으면 종료를 입력하세요\n",
            "\n",
            "주문할 붕어빵 종류를 입력하세요: 초코붕어빵\n",
            "주문할 붕어빵 개수를 입력하세요: 4\n",
            "초코붕어빵4개 팔렸습니다!\n",
            "\n",
            "주문할 붕어빵 종류를 입력하세요: 팥붕어빵\n",
            "주문할 붕어빵 개수를 입력하세요: 10\n",
            "팥붕어빵10개 팔렸습니다!\n",
            "\n",
            "주문할 붕어빵 종류를 입력하세요: 종료\n",
            "주문을 종료합니다\n",
            "\n",
            "현재재고는 {'팥붕어빵': 0, '슈크림붕어빵': 8, '초코붕어빵': 1} 입니다\n",
            "\n",
            "붕어빵의 총 매출액은 16000원 입니다!!!!!\n"
          ]
        }
      ]
    },
    {
      "cell_type": "code",
      "source": [
        "shop = FishBreadshop()\n",
        "shop.check_stock()\n",
        "shop.admin_mode()\n",
        "shop.calculate_total_sales()"
      ],
      "metadata": {
        "colab": {
          "base_uri": "https://localhost:8080/"
        },
        "id": "ZpeuCMf4f1S7",
        "outputId": "c1f85e96-56f7-498b-a9df-2817846d9ff1"
      },
      "execution_count": 35,
      "outputs": [
        {
          "output_type": "stream",
          "name": "stdout",
          "text": [
            "붕어빵 재고 확인:\n",
            "팥붕어빵의 개수는 10개 입니다\n",
            "슈크림붕어빵의 개수는 8개 입니다\n",
            "초코붕어빵의 개수는 5개 입니다\n",
            "** 주문을 하고 싶으면 숫자 1, 관리자 모드를 열고싶으면 숫자 2를 누르세요 **\n",
            "\n",
            "모드를 선택합니다:2\n",
            "관리자 모드를 종료하려면 종료를 입력하세요!!\n",
            "\n",
            "추가할 붕어빵 종류를 입력하세요:팥붕어빵\n",
            "추가할 붕어빵 개수를 입력하세요:40\n",
            "\n",
            "현재 재고는:\n",
            " {'팥붕어빵': 50, '슈크림붕어빵': 8, '초코붕어빵': 5}\n",
            "추가할 붕어빵 종류를 입력하세요:슈크림붕어빵\n",
            "추가할 붕어빵 개수를 입력하세요:3\n",
            "\n",
            "현재 재고는:\n",
            " {'팥붕어빵': 50, '슈크림붕어빵': 11, '초코붕어빵': 5}\n",
            "추가할 붕어빵 종류를 입력하세요:종료\n",
            "관리자 모드를 종료합니다\n",
            "붕어빵의 총 매출액은 0원 입니다!!!!!\n"
          ]
        }
      ]
    },
    {
      "cell_type": "markdown",
      "metadata": {
        "id": "DTbG4N98ba0x"
      },
      "source": [
        "__[과제 6: 메인 함수 main]__\n",
        "\n",
        "목표: main 함수를 작성하여 프로그램의 주요 로직을 실행합니다.\n",
        "\n",
        "설명:\n",
        "- BungeoppangShop 객체를 생성합니다.\n",
        "- 사용자에게 모드를 선택하도록 요청합니다.\n",
        "- \"주문\" 모드에서는 손님의 주문을 처리하고, \"관리자\" 모드에서는 재고를 추가할 수 있습니다.\n",
        "- 프로그램이 종료될 때 총 매출을 계산하고 데이터를 저장합니다.\n"
      ]
    },
    {
      "cell_type": "markdown",
      "metadata": {
        "id": "px_AIWAdba0x"
      },
      "source": [
        "__[과제 7: 최종 BungeoppangShop 클래스]__\n",
        "\n",
        "함수로 리팩토링한 \"붕어빵 자동 판매 시스템\" 작성 후 실행합니다."
      ]
    }
  ],
  "metadata": {
    "colab": {
      "provenance": [],
      "include_colab_link": true
    },
    "kernelspec": {
      "display_name": "Python 3",
      "name": "python3"
    },
    "language_info": {
      "codemirror_mode": {
        "name": "ipython",
        "version": 3
      },
      "file_extension": ".py",
      "mimetype": "text/x-python",
      "name": "python",
      "nbconvert_exporter": "python",
      "pygments_lexer": "ipython3",
      "version": "3.11.7"
    }
  },
  "nbformat": 4,
  "nbformat_minor": 0
}