{
 "cells": [
  {
   "cell_type": "markdown",
   "metadata": {},
   "source": [
    "사용자로부터 3개의 숫자를 입력받아, 이를 튜플로 만든 후 최소값과 최대값을 출력하는 함수 min_max를 작성하세요."
   ]
  },
  {
   "cell_type": "code",
   "execution_count": 2,
   "metadata": {},
   "outputs": [
    {
     "name": "stdout",
     "output_type": "stream",
     "text": [
      "입력된 숫자 튜플: (3, 5, 7)\n",
      "최소값: 3\n",
      "최대값: 7\n"
     ]
    }
   ],
   "source": [
    "def min_max():\n",
    "    num1 = int(input(\"첫 번째 숫자를 입력하세요: \"))\n",
    "    num2 = int(input(\"두 번째 숫자를 입력하세요: \"))\n",
    "    num3 = int(input(\"세 번째 숫자를 입력하세요: \"))\n",
    "\n",
    "   \n",
    "    numbers = (num1, num2, num3)\n",
    "    \n",
    "    print(f\"입력된 숫자 튜플: {numbers}\")\n",
    "    print(f\"최소값: {min(numbers)}\")\n",
    "    print(f\"최대값: {max(numbers)}\")\n",
    "\n",
    "\n",
    "min_max()\n"
   ]
  },
  {
   "cell_type": "markdown",
   "metadata": {},
   "source": []
  }
 ],
 "metadata": {
  "kernelspec": {
   "display_name": "Python 3",
   "language": "python",
   "name": "python3"
  },
  "language_info": {
   "codemirror_mode": {
    "name": "ipython",
    "version": 3
   },
   "file_extension": ".py",
   "mimetype": "text/x-python",
   "name": "python",
   "nbconvert_exporter": "python",
   "pygments_lexer": "ipython3",
   "version": "3.13.2"
  }
 },
 "nbformat": 4,
 "nbformat_minor": 2
}
