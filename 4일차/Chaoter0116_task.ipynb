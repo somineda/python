{
  "cells": [
    {
      "cell_type": "markdown",
      "metadata": {
        "id": "view-in-github",
        "colab_type": "text"
      },
      "source": [
        "<a href=\"https://colab.research.google.com/github/somineda/python/blob/main/Chaoter0116_task.ipynb\" target=\"_parent\"><img src=\"https://colab.research.google.com/assets/colab-badge.svg\" alt=\"Open In Colab\"/></a>"
      ]
    },
    {
      "cell_type": "markdown",
      "metadata": {
        "id": "BX7SgOeWu86I"
      },
      "source": [
        "안녕하세요. 수강생 여러분~!\n",
        "\n",
        "다시 돌아온 조금 더 성장할 기 ! 회 !\n",
        "\n",
        "Chapter01 ~ 16의 수업 내용을 바탕으로 아래 문제를 풀어주시면 됩니다 !\n",
        "\n",
        "지금까지 잘 해오셨으니까, 총 복습한다고 생각하시고 한번 도전해보세요 !!!\n",
        "\n",
        "차근 차근 문제와 요구사항을 읽고 작성해보세요.\n",
        "\n",
        "<br>\n",
        "\n",
        "\n",
        "[**답변 입력 방법**]\n",
        "\n",
        "문제 아래에 있는 코드 입력창에 정답코드를 작성하신 후  __▷ 버튼을 클릭해 코드를 실행__ 해보세요<br>"
      ]
    },
    {
      "cell_type": "markdown",
      "metadata": {
        "id": "t1Qh4qshvpz4"
      },
      "source": [
        "---"
      ]
    },
    {
      "cell_type": "markdown",
      "metadata": {
        "id": "aRdxFRLRvpz4"
      },
      "source": [
        "#### 프로젝트: 붕어빵 자동 판매 시스템\n",
        "\n",
        "\n",
        "당신은 붕어빵 가게의 주인입니다.\n",
        "\n",
        "손님들이 붕어빵을 주문하면 이를 자동으로 처리하고, 재고를 관리하는 시스템을 만들고자 합니다.\n",
        "\n",
        "또한, 관리자 모드를 통해 재고를 추가할 수 있는 기능을 구현해야 합니다.\n"
      ]
    },
    {
      "cell_type": "markdown",
      "metadata": {
        "id": "s6mqFBS3vpz4"
      },
      "source": [
        "__[문제 1: 붕어빵 재고 확인]__\n",
        "\n",
        "붕어빵 가게의 현재 재고를 확인하는 기능을 구현하세요.\n",
        "\n",
        "요구사항:\n",
        "- 현재 붕어빵의 재고를 딕셔너리로 관리합니다.\n",
        "- 딕셔너리에는 붕어빵의 종류와 각각의 재고 개수가 저장됩니다.\n",
        "- 현재 재고를 화면에 출력하세요.\n",
        "\n",
        "붕어빵 재고\n",
        "- 팥붕어빵 : 10개\n",
        "- 슈크림붕어빵 : 8개\n",
        "- 초코붕어빵 : 5개"
      ]
    },
    {
      "cell_type": "code",
      "execution_count": 20,
      "metadata": {
        "colab": {
          "base_uri": "https://localhost:8080/"
        },
        "id": "ARqOvMcnvpz4",
        "outputId": "394b7ae4-29d0-43f2-ab54-798d0f341dcd"
      },
      "outputs": [
        {
          "output_type": "stream",
          "name": "stdout",
          "text": [
            "{'팥붕어빵': 10, '슈크림붕어빵': 8, '초코붕어빵': 5}\n"
          ]
        }
      ],
      "source": [
        "stock = {\n",
        "   \"팥붕어빵\" : 10,\n",
        "\"슈크림붕어빵\" : 8,\n",
        "\"초코붕어빵\" : 5\n",
        "}\n",
        "print(stock)"
      ]
    },
    {
      "cell_type": "markdown",
      "metadata": {
        "id": "FbqY2tX9vpz5"
      },
      "source": [
        "__[문제 2: 붕어빵 주문 받기]__\n",
        "\n",
        "손님이 주문한 붕어빵의 종류와 개수를 입력받는 기능을 구현하세요.\n",
        "\n",
        "요구사항:\n",
        "- 손님이 주문할 붕어빵의 종류와 개수를 입력받습니다.\n",
        "- 주문 내용을 딕셔너리에 저장하세요.\n",
        "- 주문 내역을 출력해주세요."
      ]
    },
    {
      "cell_type": "code",
      "execution_count": 5,
      "metadata": {
        "colab": {
          "base_uri": "https://localhost:8080/"
        },
        "id": "J0-Ik9guvpz5",
        "outputId": "fbbe3f12-c1a6-4fa7-bdb5-bcfa085c51d6"
      },
      "outputs": [
        {
          "output_type": "stream",
          "name": "stdout",
          "text": [
            "주문할 붕어빵 종류를 입력하세요: 팥붕어빵\n",
            "주문할 붕어빵 개수를 입력하세요: 3\n",
            "{'팥붕어빵': 3}\n"
          ]
        }
      ],
      "source": [
        "order_type = input(\"주문할 붕어빵 종류를 입력하세요: \")\n",
        "order_num = int(input(\"주문할 붕어빵 개수를 입력하세요: \"))\n",
        "customer_order = {order_type: order_num}\n",
        "print(customer_order)"
      ]
    },
    {
      "cell_type": "markdown",
      "metadata": {
        "id": "__gchqN4vpz5"
      },
      "source": [
        "__[문제 3: 붕어빵 주문 처리]__\n",
        "\n",
        "손님의 주문을 처리하여 붕어빵 재고를 업데이트하는 기능을 구현하세요.\n",
        "\n",
        "요구사항:\n",
        "- 손님의 주문 내용을 기반으로 재고를 업데이트합니다.\n",
        "- 재고가 부족할 경우, 손님에게 재고 부족을 알리고 재고를 감소시키지 않습니다.\n",
        "- 재고가 충분할 경우, 주문한 만큼 재고를 감소시키고 판매를 완료합니다.\n",
        "- 판매가 완료된 경우 판매된 붕어빵 맛과 개수를 출력하세요."
      ]
    },
    {
      "cell_type": "code",
      "execution_count": 8,
      "metadata": {
        "colab": {
          "base_uri": "https://localhost:8080/"
        },
        "id": "KJQcPorVvpz5",
        "outputId": "cd8877d1-9f75-4ebe-8969-78ef0e43ba7e"
      },
      "outputs": [
        {
          "output_type": "stream",
          "name": "stdout",
          "text": [
            "팥붕어빵3개 팔렸습니다!\n"
          ]
        }
      ],
      "source": [
        "if order_type in stock:\n",
        "  if stock[order_type]>= order_num:\n",
        "    stock[order_type]-=order_num\n",
        "    print(f\"{order_type}{order_num}개 팔렸습니다!\")\n",
        "  if stock[order_type] == 0:\n",
        "            del stock[order_type]\n",
        "            print(f\"{order_type} 품절입니당\")\n",
        "else:\n",
        "  print(\"재고가 부족합니다!\")\n",
        "\n"
      ]
    },
    {
      "cell_type": "markdown",
      "metadata": {
        "id": "qHHDtd94vpz5"
      },
      "source": [
        "__[문제 4: 여러 손님 주문 처리]__\n",
        "\n",
        "여러 손님들의 주문을 처리할 수 있도록 시스템을 확장하세요.\n",
        "\n",
        "요구사항:\n",
        "- 손님이 \"종료\"를 입력할 때까지 주문을 계속 받습니다.\n",
        "- 각 주문마다 재고를 업데이트합니다.\n",
        "- 현재 재고를 화면에 출력합니다."
      ]
    },
    {
      "cell_type": "code",
      "execution_count": 15,
      "metadata": {
        "id": "oSUp89VDvpz5",
        "colab": {
          "base_uri": "https://localhost:8080/"
        },
        "outputId": "065f47a3-6399-4bea-81af-c8580f183fb1"
      },
      "outputs": [
        {
          "output_type": "stream",
          "name": "stdout",
          "text": [
            "주문을 멈추고 싶으면 종료를 입력하세요\n",
            "주문할 붕어빵 종류를 입력하세요: 팥붕어빵\n",
            "주문할 붕어빵 개수를 입력하세요: 1\n",
            "팥붕어빵1개 팔렸습니다!\n",
            "팥붕어빵 품절입니당\n",
            "현재재고는 {'슈크림붕어빵': 2, '초코붕어빵': 5} 입니다\n",
            "주문할 붕어빵 종류를 입력하세요: 종료\n",
            "주문을 종료합니다\n"
          ]
        }
      ],
      "source": [
        "print(\"주문을 멈추고 싶으면 종료를 입력하세요\")\n",
        "while True:\n",
        "  order_type = input(\"주문할 붕어빵 종류를 입력하세요: \")\n",
        "\n",
        "  if order_type == \"종료\":\n",
        "    print(\"주문을 종료합니다\")\n",
        "    break\n",
        "\n",
        "  order_num = int(input(\"주문할 붕어빵 개수를 입력하세요: \"))\n",
        "  if order_type in stock:\n",
        "    if stock[order_type]>= order_num:\n",
        "     stock[order_type]-=order_num\n",
        "     print(f\"{order_type}{order_num}개 팔렸습니다!\")\n",
        "    if stock[order_type] == 0:\n",
        "            del stock[order_type]\n",
        "            print(f\"{order_type} 품절입니당\")\n",
        "    else :\n",
        "         print(\"재고가 부족합니다!\")\n",
        "\n",
        "  print(f\"현재재고는 {stock} 입니다\")\n",
        "\n"
      ]
    },
    {
      "cell_type": "markdown",
      "metadata": {
        "id": "GgRlF4Bmvpz5"
      },
      "source": [
        "__[문제 5: 관리자 모드]__\n",
        "\n",
        "관리자 모드를 통해 붕어빵 재고를 추가할 수 있는 기능을 구현하세요.\n",
        "\n",
        "요구사항:\n",
        "- 관리자는 특정 붕어빵의 재고를 추가할 수 있습니다.\n",
        "- \"종료\"를 입력하면 관리자 모드를 종료합니다.\n",
        "- 추가된 재고를 업데이트하고 현재 재고를 화면에 출력합니다."
      ]
    },
    {
      "cell_type": "code",
      "execution_count": 18,
      "metadata": {
        "id": "7Uy0G4zGvpz5",
        "colab": {
          "base_uri": "https://localhost:8080/"
        },
        "outputId": "345844a4-3cb7-4be3-abac-a0835281384d"
      },
      "outputs": [
        {
          "output_type": "stream",
          "name": "stdout",
          "text": [
            "관리자 모드입니다\n",
            "추가할 붕어빵 종류를 입력하세요:두바이초코붕어빵\n",
            "추가할 붕어빵 종류의 개수를 입력하세요:7\n",
            "두바이초코붕어빵이 7개 추가되었습니다!!\n",
            "현재 재고는: {'슈크림붕어빵': 2, '초코붕어빵': 5, '피자붕어빵': '4', '두바이초코붕어빵': '7'}\n",
            "추가할 붕어빵 종류를 입력하세요:팥붕어빵\n",
            "추가할 붕어빵 종류의 개수를 입력하세요:10\n",
            "팥붕어빵이 10개 추가되었습니다!!\n",
            "현재 재고는: {'슈크림붕어빵': 2, '초코붕어빵': 5, '피자붕어빵': '4', '두바이초코붕어빵': '7', '팥붕어빵': '10'}\n",
            "추가할 붕어빵 종류를 입력하세요:종료\n",
            "관리자 모드를 종료합니다\n"
          ]
        }
      ],
      "source": [
        "print(\"관리자 모드입니다\")\n",
        "\n",
        "while True:\n",
        "  manager_type= input(\"추가할 붕어빵 종류를 입력하세요:\")\n",
        "\n",
        "  if manager_type == \"종료\":\n",
        "    print(\"관리자 모드를 종료합니다\")\n",
        "    break\n",
        "\n",
        "  manager_num = input(\"추가할 붕어빵 종류의 개수를 입력하세요:\")\n",
        "\n",
        "  if manager_type in stock:\n",
        "    stock[manager_type] += manager_num\n",
        "  else:\n",
        "    stock[manager_type] = manager_num\n",
        "\n",
        "  print(f\"{manager_type}이 {manager_num}개 추가되었습니다!!\")\n",
        "\n",
        "  print(\"현재 재고는:\",stock)\n",
        "\n",
        "\n"
      ]
    },
    {
      "cell_type": "markdown",
      "metadata": {
        "id": "KXqA_9qXvpz5"
      },
      "source": [
        "__[문제 6: 매출 확인]__\n",
        "\n",
        "붕어빵 판매 가격을 설정하고, 판매한 붕어빵의 매출을 계산하세요.\n",
        "\n",
        "요구사항:\n",
        "- 각 붕어빵의 가격을 딕셔너리로 관리합니다.\n",
        "- 판매된 붕어빵의 종류와 개수를 딕셔너리로 관리합니다.\n",
        "- 총 매출을 계산하여 출력합니다.\n",
        "\n",
        "초기 설정:\n",
        "- 가격\n",
        "    - \"팥붕어빵\": 1000\n",
        "    - \"슈크림붕어빵\": 1200\n",
        "    - \"초코붕어빵\": 1500\n",
        "\n",
        "- 판매 개수\n",
        "    - \"팥붕어빵\": 0\n",
        "    - \"슈크림붕어빵\": 0\n",
        "    - \"초코붕어빵\": 0"
      ]
    },
    {
      "cell_type": "code",
      "execution_count": 21,
      "metadata": {
        "id": "SoKETN82vpz5",
        "colab": {
          "base_uri": "https://localhost:8080/"
        },
        "outputId": "bf279821-b6ca-445a-847d-da61205a9c8d"
      },
      "outputs": [
        {
          "output_type": "stream",
          "name": "stdout",
          "text": [
            "주문을 멈추고 싶으면 종료를 입력하세요\n",
            "주문할 붕어빵 종류를 입력하세요: 팥붕어빵\n",
            "주문할 붕어빵 개수를 입력하세요: 4\n",
            "팥붕어빵4개 팔렸습니다!\n",
            "재고가 부족합니다!\n",
            "총 매출은 4000원 입니다\n",
            "주문할 붕어빵 종류를 입력하세요: 종료\n",
            "주문을 종료합니다\n"
          ]
        }
      ],
      "source": [
        "price = {\n",
        "    \"팥붕어빵\": 1000,\n",
        "\"슈크림붕어빵\": 1200,\n",
        "\"초코붕어빵\": 1500\n",
        "}\n",
        "\n",
        "print(\"주문을 멈추고 싶으면 종료를 입력하세요\")\n",
        "while True:\n",
        "  order_type = input(\"주문할 붕어빵 종류를 입력하세요: \")\n",
        "\n",
        "  if order_type == \"종료\":\n",
        "    print(\"주문을 종료합니다\")\n",
        "    break\n",
        "\n",
        "  order_num = int(input(\"주문할 붕어빵 개수를 입력하세요: \"))\n",
        "  if order_type in stock:\n",
        "    if stock[order_type]>= order_num:\n",
        "     stock[order_type]-=order_num\n",
        "     print(f\"{order_type}{order_num}개 팔렸습니다!\")\n",
        "    if stock[order_type] == 0:\n",
        "            del stock[order_type]\n",
        "            print(f\"{order_type} 품절입니당\")\n",
        "    else :\n",
        "         print(\"재고가 부족합니다!\")\n",
        "\n",
        "  sales = order_num * price[order_type]\n",
        "\n",
        "  print(f\"총 매출은 {sales}원 입니다\")\n",
        "\n"
      ]
    }
  ],
  "metadata": {
    "colab": {
      "provenance": [],
      "include_colab_link": true
    },
    "kernelspec": {
      "display_name": "Python 3",
      "name": "python3"
    },
    "language_info": {
      "codemirror_mode": {
        "name": "ipython",
        "version": 3
      },
      "file_extension": ".py",
      "mimetype": "text/x-python",
      "name": "python",
      "nbconvert_exporter": "python",
      "pygments_lexer": "ipython3",
      "version": "3.11.7"
    }
  },
  "nbformat": 4,
  "nbformat_minor": 0
}
